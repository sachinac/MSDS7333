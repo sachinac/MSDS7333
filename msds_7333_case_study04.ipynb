{
  "nbformat": 4,
  "nbformat_minor": 0,
  "metadata": {
    "colab": {
      "name": "msds_7333_case_study04.ipynb",
      "provenance": [],
      "collapsed_sections": [],
      "toc_visible": true,
      "authorship_tag": "ABX9TyOOeXHBuCRMh2+1gLPwFyof",
      "include_colab_link": true
    },
    "kernelspec": {
      "name": "python3",
      "display_name": "Python 3"
    }
  },
  "cells": [
    {
      "cell_type": "markdown",
      "metadata": {
        "id": "view-in-github",
        "colab_type": "text"
      },
      "source": [
        "<a href=\"https://colab.research.google.com/github/sachinac/MSDS7333/blob/main/msds_7333_case_study04.ipynb\" target=\"_parent\"><img src=\"https://colab.research.google.com/assets/colab-badge.svg\" alt=\"Open In Colab\"/></a>"
      ]
    },
    {
      "cell_type": "markdown",
      "metadata": {
        "id": "zcOLfjuEcRfz"
      },
      "source": [
        ""
      ]
    },
    {
      "cell_type": "markdown",
      "metadata": {
        "id": "PL766qmFcTkb"
      },
      "source": [
        "# Introduction\n",
        "**Influenza** most commonly known as **flu** is an infectious respiratory disease caused by virus. There four known variants of the Influenza. Type A , Type B, Type C and Type D. Based on historical data it occurs in winter or in monsoon season. There are several studies have been conducted on the causes of occurring in the specific season and one of the study has linked it to vitamin D levels in human $^{[1]}$. It's during winter or rainy season when people stay mostly indoors and are less expose to sun causing the fall of levels of vitamin D in people. Staying inside homes has also been seen as one of the reason of transmission the disease as people are in close contact of each other. That explains a bit of seasonal occurrence of the flu every year. These viruses infect nose, throat and lungs and leads to mild to severe illness and has been observed that it can also lead to death of proper attention is not given.\n",
        "\n",
        "   Data shows that globally on an average 389K deaths occurs due to flu and it mostly affect people who are above 60 years of age $^{[2]}$. In the United States alone more than 200K hospitalization are due to Influenza every year $^{[3]}$. [Centers for Disease Control and Prevention](https://www.cdc.gov/) has reported range of death is between 3500 and 49K every year and costs the U.S. economy more than \\$10 billions $^{[4]}$.Out of many strains of the viruses few have potential to create pandemics/epidemics. One the deadliest pandemic occurred in year 1918 which infected 33% of the world population and caused 100 million deaths worldwide. It has been observed that such or less severe pandemic occurs 3 times in a century. As this is repeating phenomenon it becomes important to gather data on infection to take precautionary steps to contain the impact of virus to protect most vulnerable population. It helps to control and respond proactively to spread of the disease, arranging medical treatments accordingly and alert health officials in advance which potentially stops to become pandemic.\n",
        "\n",
        "World Health Organization (WHO) plays an important role in keeping watch on such diseases as it occurs across the world. They established [Global Influenza Surveillance and Response System (GISRS)](http://www.who.int/influenza/gisrs_laboratory/en/) in 1952 to monitor Influenza and different strains and changes in viruses with the goal of reducing its impact and providing guidance to researchers to develop/enhance vaccine. Centers for Disease Control and Prevention and WHO works together to contain the virus and protect older population in the country.\n",
        "\n",
        "With this initial background this case study provides different insights from the [data](https://gis.cdc.gov/grasp/fluview/fluportaldashboard.html) that is publicly available on WHO's website. Study will analyze trends in the data to develop model to 2 week forecast of infections details of which is available in later section of this document."
      ]
    },
    {
      "cell_type": "markdown",
      "metadata": {
        "id": "sZ3TF-d0cdmD"
      },
      "source": [
        "# Business Understanding\n",
        "\n",
        "The Influenza causes significant impact on the economy and puts additional burden health system every year. According to data adults with certain medical conditions and people above 60 years of age particularly affected by flu badly the end results in hospitalization. Sudden increase in patients puts pressure on Hospitals, Doctors, nurses and eventually affects treatments of patients. Knowing that such a diseases occurs every year requires monitoring, data collection and planning. There are several ways to control getting into such situation. Once of the way is vaccination before winter or monsoon starts, spreading awareness , face-masking etc. Another way to go one step further and provide forecast so that preventive actions can be taken at right time.Forecast can provide guidence to logistics for healthcare, e.g. start time of vaccinations, medical staff, arranging medicines, medical equipmments only when it is needed, alerting citizens to take precautionary steps like washing hands, physical distancing, using face masks etc. Which eventually may help to reduce number of patients and in turn pressure on health agencies. Therefore it is important to monitor such diseases by the way of collecting health data on regular basis so that preventive actions can be taken, to alert Health organizations in advance. THe goal of this case study is to obtain data that WHO has collected over the years and build and evaluate a model that will accurately forecast incidences of Influenza.\n",
        "\n",
        "## Objective\n",
        "\n",
        "Download historical [data](https://gis.cdc.gov/grasp/fluview/fluportaldashboard.html) that is available on the WHO website and build and evaluate a time series model (ARIMA) to provide accurate forecast of Influenza incidences.\n",
        "\n"
      ]
    },
    {
      "cell_type": "markdown",
      "metadata": {
        "id": "gfFf8USLiRbu"
      },
      "source": [
        "# Data Extraction & Evaluation\n",
        "\n",
        "Data was downloaded from [www.cdc.gov](https://gis.cdc.gov/grasp/fluview/fluportaldashboard.html). This is weekly outpatient data from Influenza-like Illness Surveillance Network, or **ILINet** which contains number of providers and patients and other stats for whole year starting from week 40 of year 1997 to week 6 of year 2021. Total observations in this dataset are 1217. US Centers for Disease Control and Prevention and state health departments collects influensa surveillance data collected from healthcare providers.\n",
        "\n"
      ]
    },
    {
      "cell_type": "markdown",
      "metadata": {
        "id": "yTn5E3bRJ6c6"
      },
      "source": [
        "## Loading Summerizing Data"
      ]
    },
    {
      "cell_type": "code",
      "metadata": {
        "id": "RJxs1rM5ibjH",
        "colab": {
          "base_uri": "https://localhost:8080/",
          "height": 238
        },
        "outputId": "42ca03b9-1b9d-44a7-ee0b-08431d65aac0"
      },
      "source": [
        "import pandas as pd\n",
        "import matplotlib.pyplot as plt\n",
        "\n",
        "url=\"https://raw.githubusercontent.com/sachinac/MSDS7333/main/case_study04/data/ILINet.csv\"\n",
        "fludata=pd.read_csv(url)\n",
        "fludata.head()"
      ],
      "execution_count": null,
      "outputs": [
        {
          "output_type": "execute_result",
          "data": {
            "text/html": [
              "<div>\n",
              "<style scoped>\n",
              "    .dataframe tbody tr th:only-of-type {\n",
              "        vertical-align: middle;\n",
              "    }\n",
              "\n",
              "    .dataframe tbody tr th {\n",
              "        vertical-align: top;\n",
              "    }\n",
              "\n",
              "    .dataframe thead th {\n",
              "        text-align: right;\n",
              "    }\n",
              "</style>\n",
              "<table border=\"1\" class=\"dataframe\">\n",
              "  <thead>\n",
              "    <tr style=\"text-align: right;\">\n",
              "      <th></th>\n",
              "      <th>REGION TYPE</th>\n",
              "      <th>REGION</th>\n",
              "      <th>YEAR</th>\n",
              "      <th>WEEK</th>\n",
              "      <th>% WEIGHTED ILI</th>\n",
              "      <th>UNWEIGHTED ILI</th>\n",
              "      <th>AGE 0-4</th>\n",
              "      <th>AGE 25-49</th>\n",
              "      <th>AGE 25-64</th>\n",
              "      <th>AGE 5-24</th>\n",
              "      <th>AGE 50-64</th>\n",
              "      <th>AGE 65</th>\n",
              "      <th>ILITOTAL</th>\n",
              "      <th>NUM. OF PROVIDERS</th>\n",
              "      <th>TOTAL PATIENTS</th>\n",
              "    </tr>\n",
              "  </thead>\n",
              "  <tbody>\n",
              "    <tr>\n",
              "      <th>0</th>\n",
              "      <td>National</td>\n",
              "      <td>X</td>\n",
              "      <td>1997</td>\n",
              "      <td>40</td>\n",
              "      <td>1.10148</td>\n",
              "      <td>1.21686</td>\n",
              "      <td>179</td>\n",
              "      <td>X</td>\n",
              "      <td>157</td>\n",
              "      <td>205</td>\n",
              "      <td>X</td>\n",
              "      <td>29</td>\n",
              "      <td>570</td>\n",
              "      <td>192</td>\n",
              "      <td>46842</td>\n",
              "    </tr>\n",
              "    <tr>\n",
              "      <th>1</th>\n",
              "      <td>National</td>\n",
              "      <td>X</td>\n",
              "      <td>1997</td>\n",
              "      <td>41</td>\n",
              "      <td>1.20007</td>\n",
              "      <td>1.28064</td>\n",
              "      <td>199</td>\n",
              "      <td>X</td>\n",
              "      <td>151</td>\n",
              "      <td>242</td>\n",
              "      <td>X</td>\n",
              "      <td>23</td>\n",
              "      <td>615</td>\n",
              "      <td>191</td>\n",
              "      <td>48023</td>\n",
              "    </tr>\n",
              "    <tr>\n",
              "      <th>2</th>\n",
              "      <td>National</td>\n",
              "      <td>X</td>\n",
              "      <td>1997</td>\n",
              "      <td>42</td>\n",
              "      <td>1.37876</td>\n",
              "      <td>1.23906</td>\n",
              "      <td>228</td>\n",
              "      <td>X</td>\n",
              "      <td>153</td>\n",
              "      <td>266</td>\n",
              "      <td>X</td>\n",
              "      <td>34</td>\n",
              "      <td>681</td>\n",
              "      <td>219</td>\n",
              "      <td>54961</td>\n",
              "    </tr>\n",
              "    <tr>\n",
              "      <th>3</th>\n",
              "      <td>National</td>\n",
              "      <td>X</td>\n",
              "      <td>1997</td>\n",
              "      <td>43</td>\n",
              "      <td>1.19920</td>\n",
              "      <td>1.14473</td>\n",
              "      <td>188</td>\n",
              "      <td>X</td>\n",
              "      <td>193</td>\n",
              "      <td>236</td>\n",
              "      <td>X</td>\n",
              "      <td>36</td>\n",
              "      <td>653</td>\n",
              "      <td>213</td>\n",
              "      <td>57044</td>\n",
              "    </tr>\n",
              "    <tr>\n",
              "      <th>4</th>\n",
              "      <td>National</td>\n",
              "      <td>X</td>\n",
              "      <td>1997</td>\n",
              "      <td>44</td>\n",
              "      <td>1.65618</td>\n",
              "      <td>1.26112</td>\n",
              "      <td>217</td>\n",
              "      <td>X</td>\n",
              "      <td>162</td>\n",
              "      <td>280</td>\n",
              "      <td>X</td>\n",
              "      <td>41</td>\n",
              "      <td>700</td>\n",
              "      <td>213</td>\n",
              "      <td>55506</td>\n",
              "    </tr>\n",
              "  </tbody>\n",
              "</table>\n",
              "</div>"
            ],
            "text/plain": [
              "  REGION TYPE REGION  YEAR  ...  ILITOTAL  NUM. OF PROVIDERS  TOTAL PATIENTS\n",
              "0    National      X  1997  ...       570                192           46842\n",
              "1    National      X  1997  ...       615                191           48023\n",
              "2    National      X  1997  ...       681                219           54961\n",
              "3    National      X  1997  ...       653                213           57044\n",
              "4    National      X  1997  ...       700                213           55506\n",
              "\n",
              "[5 rows x 15 columns]"
            ]
          },
          "metadata": {
            "tags": []
          },
          "execution_count": 3
        }
      ]
    },
    {
      "cell_type": "markdown",
      "metadata": {
        "id": "naZf9NETKWBP"
      },
      "source": [
        "## Structure of the data"
      ]
    },
    {
      "cell_type": "code",
      "metadata": {
        "colab": {
          "base_uri": "https://localhost:8080/"
        },
        "id": "ZEhOCWdnKGpU",
        "outputId": "175f7265-fc13-4ffd-869a-7b58369428d9"
      },
      "source": [
        "fludata.info()"
      ],
      "execution_count": null,
      "outputs": [
        {
          "output_type": "stream",
          "text": [
            "<class 'pandas.core.frame.DataFrame'>\n",
            "RangeIndex: 1220 entries, 0 to 1219\n",
            "Data columns (total 15 columns):\n",
            " #   Column             Non-Null Count  Dtype  \n",
            "---  ------             --------------  -----  \n",
            " 0   REGION TYPE        1220 non-null   object \n",
            " 1   REGION             1220 non-null   object \n",
            " 2   YEAR               1220 non-null   int64  \n",
            " 3   WEEK               1220 non-null   int64  \n",
            " 4   % WEIGHTED ILI     1220 non-null   float64\n",
            " 5   UNWEIGHTED ILI     1220 non-null   float64\n",
            " 6   AGE 0-4            1220 non-null   int64  \n",
            " 7   AGE 25-49          1220 non-null   object \n",
            " 8   AGE 25-64          1220 non-null   object \n",
            " 9   AGE 5-24           1220 non-null   int64  \n",
            " 10  AGE 50-64          1220 non-null   object \n",
            " 11  AGE 65             1220 non-null   int64  \n",
            " 12  ILITOTAL           1220 non-null   int64  \n",
            " 13  NUM. OF PROVIDERS  1220 non-null   int64  \n",
            " 14  TOTAL PATIENTS     1220 non-null   int64  \n",
            "dtypes: float64(2), int64(8), object(5)\n",
            "memory usage: 143.1+ KB\n"
          ],
          "name": "stdout"
        }
      ]
    },
    {
      "cell_type": "markdown",
      "metadata": {
        "id": "w3hZBmU8KaR8"
      },
      "source": [
        "## Data Summary"
      ]
    },
    {
      "cell_type": "code",
      "metadata": {
        "colab": {
          "base_uri": "https://localhost:8080/",
          "height": 351
        },
        "id": "tz28nDN_KZrQ",
        "outputId": "b8441c8b-d28a-45dc-8890-ac5ea6546d0d"
      },
      "source": [
        "fludata.describe()"
      ],
      "execution_count": null,
      "outputs": [
        {
          "output_type": "execute_result",
          "data": {
            "text/html": [
              "<div>\n",
              "<style scoped>\n",
              "    .dataframe tbody tr th:only-of-type {\n",
              "        vertical-align: middle;\n",
              "    }\n",
              "\n",
              "    .dataframe tbody tr th {\n",
              "        vertical-align: top;\n",
              "    }\n",
              "\n",
              "    .dataframe thead th {\n",
              "        text-align: right;\n",
              "    }\n",
              "</style>\n",
              "<table border=\"1\" class=\"dataframe\">\n",
              "  <thead>\n",
              "    <tr style=\"text-align: right;\">\n",
              "      <th></th>\n",
              "      <th>YEAR</th>\n",
              "      <th>WEEK</th>\n",
              "      <th>% WEIGHTED ILI</th>\n",
              "      <th>UNWEIGHTED ILI</th>\n",
              "      <th>AGE 0-4</th>\n",
              "      <th>AGE 5-24</th>\n",
              "      <th>AGE 65</th>\n",
              "      <th>ILITOTAL</th>\n",
              "      <th>NUM. OF PROVIDERS</th>\n",
              "      <th>TOTAL PATIENTS</th>\n",
              "    </tr>\n",
              "  </thead>\n",
              "  <tbody>\n",
              "    <tr>\n",
              "      <th>count</th>\n",
              "      <td>1220.000000</td>\n",
              "      <td>1220.000000</td>\n",
              "      <td>1220.000000</td>\n",
              "      <td>1220.000000</td>\n",
              "      <td>1220.000000</td>\n",
              "      <td>1220.000000</td>\n",
              "      <td>1220.000000</td>\n",
              "      <td>1220.000000</td>\n",
              "      <td>1220.000000</td>\n",
              "      <td>1.220000e+03</td>\n",
              "    </tr>\n",
              "    <tr>\n",
              "      <th>mean</th>\n",
              "      <td>2008.928689</td>\n",
              "      <td>26.703279</td>\n",
              "      <td>1.773753</td>\n",
              "      <td>1.700802</td>\n",
              "      <td>2771.085246</td>\n",
              "      <td>4035.495082</td>\n",
              "      <td>697.329508</td>\n",
              "      <td>10926.902459</td>\n",
              "      <td>1311.213934</td>\n",
              "      <td>5.219077e+05</td>\n",
              "    </tr>\n",
              "    <tr>\n",
              "      <th>std</th>\n",
              "      <td>6.758509</td>\n",
              "      <td>15.187550</td>\n",
              "      <td>1.431055</td>\n",
              "      <td>1.340334</td>\n",
              "      <td>3087.588240</td>\n",
              "      <td>5613.912368</td>\n",
              "      <td>1014.761232</td>\n",
              "      <td>14282.927124</td>\n",
              "      <td>813.032039</td>\n",
              "      <td>3.850975e+05</td>\n",
              "    </tr>\n",
              "    <tr>\n",
              "      <th>min</th>\n",
              "      <td>1997.000000</td>\n",
              "      <td>1.000000</td>\n",
              "      <td>0.000000</td>\n",
              "      <td>0.000000</td>\n",
              "      <td>0.000000</td>\n",
              "      <td>0.000000</td>\n",
              "      <td>0.000000</td>\n",
              "      <td>0.000000</td>\n",
              "      <td>0.000000</td>\n",
              "      <td>0.000000e+00</td>\n",
              "    </tr>\n",
              "    <tr>\n",
              "      <th>25%</th>\n",
              "      <td>2003.000000</td>\n",
              "      <td>13.750000</td>\n",
              "      <td>0.879713</td>\n",
              "      <td>0.890790</td>\n",
              "      <td>602.000000</td>\n",
              "      <td>751.750000</td>\n",
              "      <td>137.750000</td>\n",
              "      <td>2149.250000</td>\n",
              "      <td>606.000000</td>\n",
              "      <td>1.675415e+05</td>\n",
              "    </tr>\n",
              "    <tr>\n",
              "      <th>50%</th>\n",
              "      <td>2009.000000</td>\n",
              "      <td>27.000000</td>\n",
              "      <td>1.342605</td>\n",
              "      <td>1.280695</td>\n",
              "      <td>1896.000000</td>\n",
              "      <td>2340.000000</td>\n",
              "      <td>375.000000</td>\n",
              "      <td>6592.000000</td>\n",
              "      <td>1356.500000</td>\n",
              "      <td>5.402825e+05</td>\n",
              "    </tr>\n",
              "    <tr>\n",
              "      <th>75%</th>\n",
              "      <td>2015.000000</td>\n",
              "      <td>40.000000</td>\n",
              "      <td>2.257150</td>\n",
              "      <td>2.103883</td>\n",
              "      <td>3739.250000</td>\n",
              "      <td>4904.750000</td>\n",
              "      <td>753.500000</td>\n",
              "      <td>14068.500000</td>\n",
              "      <td>1921.250000</td>\n",
              "      <td>7.794160e+05</td>\n",
              "    </tr>\n",
              "    <tr>\n",
              "      <th>max</th>\n",
              "      <td>2021.000000</td>\n",
              "      <td>53.000000</td>\n",
              "      <td>7.715100</td>\n",
              "      <td>7.780900</td>\n",
              "      <td>24097.000000</td>\n",
              "      <td>45513.000000</td>\n",
              "      <td>6986.000000</td>\n",
              "      <td>111361.000000</td>\n",
              "      <td>3435.000000</td>\n",
              "      <td>1.635350e+06</td>\n",
              "    </tr>\n",
              "  </tbody>\n",
              "</table>\n",
              "</div>"
            ],
            "text/plain": [
              "              YEAR         WEEK  ...  NUM. OF PROVIDERS  TOTAL PATIENTS\n",
              "count  1220.000000  1220.000000  ...        1220.000000    1.220000e+03\n",
              "mean   2008.928689    26.703279  ...        1311.213934    5.219077e+05\n",
              "std       6.758509    15.187550  ...         813.032039    3.850975e+05\n",
              "min    1997.000000     1.000000  ...           0.000000    0.000000e+00\n",
              "25%    2003.000000    13.750000  ...         606.000000    1.675415e+05\n",
              "50%    2009.000000    27.000000  ...        1356.500000    5.402825e+05\n",
              "75%    2015.000000    40.000000  ...        1921.250000    7.794160e+05\n",
              "max    2021.000000    53.000000  ...        3435.000000    1.635350e+06\n",
              "\n",
              "[8 rows x 10 columns]"
            ]
          },
          "metadata": {
            "tags": []
          },
          "execution_count": 5
        }
      ]
    },
    {
      "cell_type": "markdown",
      "metadata": {
        "id": "up_qe0eALS2K"
      },
      "source": [
        "## Plot the data"
      ]
    },
    {
      "cell_type": "code",
      "metadata": {
        "colab": {
          "base_uri": "https://localhost:8080/",
          "height": 376
        },
        "id": "Yx5kmtH8LVlG",
        "outputId": "83c768f2-7168-4468-d72f-e91158e49a73"
      },
      "source": [
        "# Draw Plot\n",
        "def plot_df(df, x, y, title=\"\", xlabel='Week', ylabel='Total Patients', dpi=100):\n",
        "    plt.figure(figsize=(16,5), dpi=dpi)\n",
        "    plt.plot(x, y, color='tab:blue')\n",
        "    plt.gca().set(title=title, xlabel=xlabel, ylabel=ylabel)\n",
        "    plt.show()\n",
        "\n",
        "plot_df(fludata, x=fludata.index, y=fludata.iloc[:,14], title='Weekly Outpatient ILINet data')  "
      ],
      "execution_count": null,
      "outputs": [
        {
          "output_type": "display_data",
          "data": {
            "image/png": "[encoded data removed]",
            "text/plain": [
              "<Figure size 1600x500 with 1 Axes>"
            ]
          },
          "metadata": {
            "tags": [],
            "needs_background": "light"
          }
        }
      ]
    },
    {
      "cell_type": "markdown",
      "metadata": {
        "id": "wyTmbPEaPn2P"
      },
      "source": [
        "## Missing Values\n",
        "\n",
        "As it happens with traditional dataset, missing data prolem also occurs with time series data and if it occurs it must be handled before the data can be further preprocessed and analyzed. Sometimes the missing records are a part of the dynamics of the time series, for example, a stock market closes on a Friday and opens on a Monday. This case study is about Influenza incidences every year. So it is known fact that this is seasonal occurence so data may not be collected or it is not at all available for the period when there is no outbreak. **As per indicated below the dataset doesn't contain a missing values**.\n",
        "\n",
        "The statistical characteristics of time series data often violate the assumptions of conventional statistical methods. Because of this, analyzing time series data requires a unique set of tools and methods, collectively known as time series analysis.\n",
        "\n",
        "## Assumptions and Constraints\n",
        "\n",
        "* Our data clearly indicates that the flu patient are increaing from year to year. this make sense because, world population is increasing, thus the number of people having the flu is also rising every year. The other thing is the seasonality of this data is also clearly visible. In some week the incidences are high and some week it drops. \n",
        "* This case stduy intends to perform univariate analysis as there are no other variables involved in the dataset that may have impact on total number of patients every year.\n"
      ]
    },
    {
      "cell_type": "markdown",
      "metadata": {
        "id": "uPZgP8Alc8Om"
      },
      "source": [
        "# References\n",
        "\n",
        "1.  Cannell JJ, Vieth R, Umhau JC, Holick MF, Grant WB, Madronich S, et al. (December 2006). \"Epidemic influenza and vitamin D\". Epidemiology and Infection. 134 (6): 1129–40. doi:10.1017/S0950268806007175. PMC 2870528. PMID 16959053.\n",
        "2. Paget J, Spreeuwenberg P, Charu V, Taylor RJ, Iuliano AD, Bresee J, et al. (December 2019). \"Global mortality associated with seasonal influenza epidemics: New burden estimates and predictors from the GLaMOR Project\". Journal of Global Health. 9 (2): 020421. doi:10.7189/jogh.09.020421. PMC 6815659. PMID 31673337.\n",
        "3.  Thompson WW, Shay DK, Weintraub E, Brammer L, Cox N, Anderson LJ, et al. (January 2003). \"Mortality associated with influenza and respiratory syncytial virus in the United States\". JAMA. 289 (2): 179–86. doi:10.1001/jama.289.2.179. PMID 12517228. S2CID 5018362.\n",
        "4. [Small Business and Technology Development Center article ](https://sbtdc.org/resources/recovery/pandemic-flu/)"
      ]
    }
  ]
}
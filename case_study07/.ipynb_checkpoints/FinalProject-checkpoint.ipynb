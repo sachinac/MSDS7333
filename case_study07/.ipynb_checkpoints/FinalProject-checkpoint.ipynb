{
 "cells": [
  {
   "cell_type": "markdown",
   "metadata": {},
   "source": [
    "### Import Modules"
   ]
  },
  {
   "cell_type": "code",
   "execution_count": 1,
   "metadata": {},
   "outputs": [],
   "source": [
    "import pandas as pd\n",
    "import numpy as np\n",
    "import matplotlib.pyplot as plt\n",
    "import seaborn as sns\n",
    "\n",
    "from sklearn.model_selection import GridSearchCV\n",
    "from sklearn.neighbors import KNeighborsClassifier\n",
    "from sklearn.model_selection import train_test_split\n",
    "from sklearn import metrics as mt\n",
    "from sklearn.metrics import confusion_matrix\n",
    "\n",
    "from mlxtend.evaluate import accuracy_score\n",
    "from mlxtend.evaluate import confusion_matrix\n",
    "from mlxtend.plotting import plot_confusion_matrix\n",
    "\n",
    "from os import path\n",
    "import pickle\n",
    "\n",
    "import warnings\n",
    "warnings.filterwarnings('ignore')"
   ]
  },
  {
   "cell_type": "markdown",
   "metadata": {},
   "source": [
    "### Load Data & Preperation"
   ]
  },
  {
   "cell_type": "code",
   "execution_count": 2,
   "metadata": {},
   "outputs": [],
   "source": [
    "df = pd.read_csv(r'C:/Users/a0875458/Documents/My Data/IDP/Masters/Sem 6 - 09 - 7333 - Quantifying The World/Week 14/final_project.csv')"
   ]
  },
  {
   "cell_type": "code",
   "execution_count": 3,
   "metadata": {},
   "outputs": [
    {
     "data": {
      "text/plain": [
       "0"
      ]
     },
     "execution_count": 3,
     "metadata": {},
     "output_type": "execute_result"
    }
   ],
   "source": [
    "df=df.dropna()\n",
    "df.isnull().sum().sum()"
   ]
  },
  {
   "cell_type": "code",
   "execution_count": 4,
   "metadata": {},
   "outputs": [
    {
     "name": "stdout",
     "output_type": "stream",
     "text": [
      "Total number of rows in the dataframe: 158392\n",
      "Total number of columns in the dataframe: 51\n"
     ]
    }
   ],
   "source": [
    "# List the total number of rows and columns in the dataframe\n",
    "\n",
    "print(\"Total number of rows in the dataframe: \" + str(df.shape[0]))\n",
    "print(\"Total number of columns in the dataframe: \" + str(df.shape[1]))"
   ]
  },
  {
   "cell_type": "code",
   "execution_count": 5,
   "metadata": {},
   "outputs": [
    {
     "name": "stdout",
     "output_type": "stream",
     "text": [
      "<class 'pandas.core.frame.DataFrame'>\n",
      "Int64Index: 158392 entries, 0 to 159999\n",
      "Data columns (total 51 columns):\n",
      "x0     158392 non-null float64\n",
      "x1     158392 non-null float64\n",
      "x2     158392 non-null float64\n",
      "x3     158392 non-null float64\n",
      "x4     158392 non-null float64\n",
      "x5     158392 non-null float64\n",
      "x6     158392 non-null float64\n",
      "x7     158392 non-null float64\n",
      "x8     158392 non-null float64\n",
      "x9     158392 non-null float64\n",
      "x10    158392 non-null float64\n",
      "x11    158392 non-null float64\n",
      "x12    158392 non-null float64\n",
      "x13    158392 non-null float64\n",
      "x14    158392 non-null float64\n",
      "x15    158392 non-null float64\n",
      "x16    158392 non-null float64\n",
      "x17    158392 non-null float64\n",
      "x18    158392 non-null float64\n",
      "x19    158392 non-null float64\n",
      "x20    158392 non-null float64\n",
      "x21    158392 non-null float64\n",
      "x22    158392 non-null float64\n",
      "x23    158392 non-null float64\n",
      "x24    158392 non-null object\n",
      "x25    158392 non-null float64\n",
      "x26    158392 non-null float64\n",
      "x27    158392 non-null float64\n",
      "x28    158392 non-null float64\n",
      "x29    158392 non-null object\n",
      "x30    158392 non-null object\n",
      "x31    158392 non-null float64\n",
      "x32    158392 non-null object\n",
      "x33    158392 non-null float64\n",
      "x34    158392 non-null float64\n",
      "x35    158392 non-null float64\n",
      "x36    158392 non-null float64\n",
      "x37    158392 non-null object\n",
      "x38    158392 non-null float64\n",
      "x39    158392 non-null float64\n",
      "x40    158392 non-null float64\n",
      "x41    158392 non-null float64\n",
      "x42    158392 non-null float64\n",
      "x43    158392 non-null float64\n",
      "x44    158392 non-null float64\n",
      "x45    158392 non-null float64\n",
      "x46    158392 non-null float64\n",
      "x47    158392 non-null float64\n",
      "x48    158392 non-null float64\n",
      "x49    158392 non-null float64\n",
      "y      158392 non-null int64\n",
      "dtypes: float64(45), int64(1), object(5)\n",
      "memory usage: 62.8+ MB\n"
     ]
    }
   ],
   "source": [
    "# Displaying the data types of each column/attribute\n",
    "\n",
    "df.info()"
   ]
  },
  {
   "cell_type": "code",
   "execution_count": 6,
   "metadata": {},
   "outputs": [
    {
     "data": {
      "text/plain": [
       "x24\n",
       "america      4418\n",
       "asia       137596\n",
       "euorpe      16378\n",
       "dtype: int64"
      ]
     },
     "execution_count": 6,
     "metadata": {},
     "output_type": "execute_result"
    }
   ],
   "source": [
    "# Display x24 class types and count\n",
    "df.groupby('x24').size()"
   ]
  },
  {
   "cell_type": "code",
   "execution_count": 7,
   "metadata": {},
   "outputs": [
    {
     "data": {
      "text/plain": [
       "<matplotlib.axes._subplots.AxesSubplot at 0x2552cb933c8>"
      ]
     },
     "execution_count": 7,
     "metadata": {},
     "output_type": "execute_result"
    },
    {
     "data": {
      "image/png": "[encoded data removed]",
      "text/plain": [
       "<Figure size 432x288 with 1 Axes>"
      ]
     },
     "metadata": {
      "needs_background": "light"
     },
     "output_type": "display_data"
    }
   ],
   "source": [
    "df_x24 = df.groupby(by=['x24'])\n",
    "df_x24_count = df_x24['x24'].count()\n",
    "df_x24_count.plot.bar(title= 'Looking at x24 Classes')"
   ]
  },
  {
   "cell_type": "code",
   "execution_count": 8,
   "metadata": {},
   "outputs": [
    {
     "data": {
      "text/plain": [
       "x29\n",
       "Apr         6699\n",
       "Aug        29115\n",
       "Dev           23\n",
       "Feb          139\n",
       "January        9\n",
       "July       45122\n",
       "Jun        40900\n",
       "Mar         1221\n",
       "May        21708\n",
       "Nov          331\n",
       "Oct         2385\n",
       "sept.      10740\n",
       "dtype: int64"
      ]
     },
     "execution_count": 8,
     "metadata": {},
     "output_type": "execute_result"
    }
   ],
   "source": [
    "# Display x29 class types and count\n",
    "df.groupby('x29').size()"
   ]
  },
  {
   "cell_type": "code",
   "execution_count": 9,
   "metadata": {},
   "outputs": [
    {
     "data": {
      "text/plain": [
       "<matplotlib.axes._subplots.AxesSubplot at 0x2552dae7160>"
      ]
     },
     "execution_count": 9,
     "metadata": {},
     "output_type": "execute_result"
    },
    {
     "data": {
      "image/png": "[encoded data removed]",
      "text/plain": [
       "<Figure size 432x288 with 1 Axes>"
      ]
     },
     "metadata": {
      "needs_background": "light"
     },
     "output_type": "display_data"
    }
   ],
   "source": [
    "df_x29 = df.groupby(by=['x29'])\n",
    "df_x29_count = df_x29['x29'].count()\n",
    "df_x29_count.plot.bar(title= 'Looking at x29 Classes')"
   ]
  },
  {
   "cell_type": "code",
   "execution_count": 10,
   "metadata": {},
   "outputs": [
    {
     "data": {
      "text/plain": [
       "x30\n",
       "friday          556\n",
       "monday          484\n",
       "thurday       29164\n",
       "tuesday       27690\n",
       "wednesday    100498\n",
       "dtype: int64"
      ]
     },
     "execution_count": 10,
     "metadata": {},
     "output_type": "execute_result"
    }
   ],
   "source": [
    "# Display x30 class types and count\n",
    "df.groupby('x30').size()"
   ]
  },
  {
   "cell_type": "code",
   "execution_count": 11,
   "metadata": {},
   "outputs": [
    {
     "data": {
      "text/plain": [
       "<matplotlib.axes._subplots.AxesSubplot at 0x2552dccf400>"
      ]
     },
     "execution_count": 11,
     "metadata": {},
     "output_type": "execute_result"
    },
    {
     "data": {
      "image/png": "[encoded data removed]",
      "text/plain": [
       "<Figure size 432x288 with 1 Axes>"
      ]
     },
     "metadata": {
      "needs_background": "light"
     },
     "output_type": "display_data"
    }
   ],
   "source": [
    "df_x30 = df.groupby(by=['x30'])\n",
    "df_x30_count = df_x30['x30'].count()\n",
    "df_x30_count.plot.bar(title= 'Looking at x30 Classes')"
   ]
  },
  {
   "cell_type": "code",
   "execution_count": 12,
   "metadata": {},
   "outputs": [
    {
     "data": {
      "text/plain": [
       "x32\n",
       "-0.0%     30224\n",
       "-0.01%    33771\n",
       "-0.02%     9812\n",
       "-0.03%     1709\n",
       "-0.04%      136\n",
       "-0.05%        6\n",
       "0.0%      33556\n",
       "0.01%     40367\n",
       "0.02%      7911\n",
       "0.03%       845\n",
       "0.04%        54\n",
       "0.05%         1\n",
       "dtype: int64"
      ]
     },
     "execution_count": 12,
     "metadata": {},
     "output_type": "execute_result"
    }
   ],
   "source": [
    "# Display x32 class types and count\n",
    "df.groupby('x32').size()"
   ]
  },
  {
   "cell_type": "code",
   "execution_count": 13,
   "metadata": {},
   "outputs": [],
   "source": [
    "df['x32'] = df['x32'].astype(str)\n",
    "df['x32'] = df['x32'].str.replace('%', '')\n",
    "df['x32'] = df['x32'].astype(float)"
   ]
  },
  {
   "cell_type": "code",
   "execution_count": 14,
   "metadata": {},
   "outputs": [
    {
     "data": {
      "text/plain": [
       "<class 'str'>    158392\n",
       "Name: x37, dtype: int64"
      ]
     },
     "execution_count": 14,
     "metadata": {},
     "output_type": "execute_result"
    }
   ],
   "source": [
    "df['x37'].apply(type).value_counts()"
   ]
  },
  {
   "cell_type": "code",
   "execution_count": 15,
   "metadata": {},
   "outputs": [
    {
     "data": {
      "text/plain": [
       "<class 'float'>    158392\n",
       "Name: x37, dtype: int64"
      ]
     },
     "execution_count": 15,
     "metadata": {},
     "output_type": "execute_result"
    }
   ],
   "source": [
    "def clean_currency(x):\n",
    "    \"\"\" If the value is a string, then remove currency symbol and delimiters\n",
    "    otherwise, the value is numeric and can be converted\n",
    "    \"\"\"\n",
    "    if isinstance(x, str):\n",
    "        return(x.replace('$', '').replace(',', ''))\n",
    "    return(x)\n",
    "df['x37'] = df['x37'].apply(clean_currency).astype('float')\n",
    "df['x37'].apply(type).value_counts()"
   ]
  },
  {
   "cell_type": "code",
   "execution_count": 16,
   "metadata": {},
   "outputs": [
    {
     "name": "stdout",
     "output_type": "stream",
     "text": [
      "<class 'pandas.core.frame.DataFrame'>\n",
      "Int64Index: 158392 entries, 0 to 159999\n",
      "Data columns (total 51 columns):\n",
      "x0     158392 non-null float64\n",
      "x1     158392 non-null float64\n",
      "x2     158392 non-null float64\n",
      "x3     158392 non-null float64\n",
      "x4     158392 non-null float64\n",
      "x5     158392 non-null float64\n",
      "x6     158392 non-null float64\n",
      "x7     158392 non-null float64\n",
      "x8     158392 non-null float64\n",
      "x9     158392 non-null float64\n",
      "x10    158392 non-null float64\n",
      "x11    158392 non-null float64\n",
      "x12    158392 non-null float64\n",
      "x13    158392 non-null float64\n",
      "x14    158392 non-null float64\n",
      "x15    158392 non-null float64\n",
      "x16    158392 non-null float64\n",
      "x17    158392 non-null float64\n",
      "x18    158392 non-null float64\n",
      "x19    158392 non-null float64\n",
      "x20    158392 non-null float64\n",
      "x21    158392 non-null float64\n",
      "x22    158392 non-null float64\n",
      "x23    158392 non-null float64\n",
      "x24    158392 non-null object\n",
      "x25    158392 non-null float64\n",
      "x26    158392 non-null float64\n",
      "x27    158392 non-null float64\n",
      "x28    158392 non-null float64\n",
      "x29    158392 non-null object\n",
      "x30    158392 non-null object\n",
      "x31    158392 non-null float64\n",
      "x32    158392 non-null float64\n",
      "x33    158392 non-null float64\n",
      "x34    158392 non-null float64\n",
      "x35    158392 non-null float64\n",
      "x36    158392 non-null float64\n",
      "x37    158392 non-null float64\n",
      "x38    158392 non-null float64\n",
      "x39    158392 non-null float64\n",
      "x40    158392 non-null float64\n",
      "x41    158392 non-null float64\n",
      "x42    158392 non-null float64\n",
      "x43    158392 non-null float64\n",
      "x44    158392 non-null float64\n",
      "x45    158392 non-null float64\n",
      "x46    158392 non-null float64\n",
      "x47    158392 non-null float64\n",
      "x48    158392 non-null float64\n",
      "x49    158392 non-null float64\n",
      "y      158392 non-null int64\n",
      "dtypes: float64(47), int64(1), object(3)\n",
      "memory usage: 62.8+ MB\n"
     ]
    }
   ],
   "source": [
    "df.info()"
   ]
  },
  {
   "cell_type": "code",
   "execution_count": 17,
   "metadata": {},
   "outputs": [
    {
     "data": {
      "text/plain": [
       "y\n",
       "0    94846\n",
       "1    63546\n",
       "dtype: int64"
      ]
     },
     "execution_count": 17,
     "metadata": {},
     "output_type": "execute_result"
    }
   ],
   "source": [
    "# Display y class types and count\n",
    "df.groupby('y').size()"
   ]
  },
  {
   "cell_type": "code",
   "execution_count": 18,
   "metadata": {},
   "outputs": [],
   "source": [
    "# perform one-hot encoding of the categorical data \"x24\"\n",
    "df_onehot_x24 = pd.get_dummies(df['x24'],prefix='x24_area')\n",
    "df_onehot_x29 = pd.get_dummies(df['x29'],prefix='x29_month')\n",
    "df_onehot_x30 = pd.get_dummies(df['x30'],prefix='x30_day')\n",
    "df = pd.concat((df,df_onehot_x24,df_onehot_x29,df_onehot_x30),axis=1) # add back into the dataframe"
   ]
  },
  {
   "cell_type": "code",
   "execution_count": 19,
   "metadata": {},
   "outputs": [
    {
     "name": "stdout",
     "output_type": "stream",
     "text": [
      "<class 'pandas.core.frame.DataFrame'>\n",
      "Int64Index: 158392 entries, 0 to 159999\n",
      "Data columns (total 71 columns):\n",
      "x0                   158392 non-null float64\n",
      "x1                   158392 non-null float64\n",
      "x2                   158392 non-null float64\n",
      "x3                   158392 non-null float64\n",
      "x4                   158392 non-null float64\n",
      "x5                   158392 non-null float64\n",
      "x6                   158392 non-null float64\n",
      "x7                   158392 non-null float64\n",
      "x8                   158392 non-null float64\n",
      "x9                   158392 non-null float64\n",
      "x10                  158392 non-null float64\n",
      "x11                  158392 non-null float64\n",
      "x12                  158392 non-null float64\n",
      "x13                  158392 non-null float64\n",
      "x14                  158392 non-null float64\n",
      "x15                  158392 non-null float64\n",
      "x16                  158392 non-null float64\n",
      "x17                  158392 non-null float64\n",
      "x18                  158392 non-null float64\n",
      "x19                  158392 non-null float64\n",
      "x20                  158392 non-null float64\n",
      "x21                  158392 non-null float64\n",
      "x22                  158392 non-null float64\n",
      "x23                  158392 non-null float64\n",
      "x24                  158392 non-null object\n",
      "x25                  158392 non-null float64\n",
      "x26                  158392 non-null float64\n",
      "x27                  158392 non-null float64\n",
      "x28                  158392 non-null float64\n",
      "x29                  158392 non-null object\n",
      "x30                  158392 non-null object\n",
      "x31                  158392 non-null float64\n",
      "x32                  158392 non-null float64\n",
      "x33                  158392 non-null float64\n",
      "x34                  158392 non-null float64\n",
      "x35                  158392 non-null float64\n",
      "x36                  158392 non-null float64\n",
      "x37                  158392 non-null float64\n",
      "x38                  158392 non-null float64\n",
      "x39                  158392 non-null float64\n",
      "x40                  158392 non-null float64\n",
      "x41                  158392 non-null float64\n",
      "x42                  158392 non-null float64\n",
      "x43                  158392 non-null float64\n",
      "x44                  158392 non-null float64\n",
      "x45                  158392 non-null float64\n",
      "x46                  158392 non-null float64\n",
      "x47                  158392 non-null float64\n",
      "x48                  158392 non-null float64\n",
      "x49                  158392 non-null float64\n",
      "y                    158392 non-null int64\n",
      "x24_area_america     158392 non-null uint8\n",
      "x24_area_asia        158392 non-null uint8\n",
      "x24_area_euorpe      158392 non-null uint8\n",
      "x29_month_Apr        158392 non-null uint8\n",
      "x29_month_Aug        158392 non-null uint8\n",
      "x29_month_Dev        158392 non-null uint8\n",
      "x29_month_Feb        158392 non-null uint8\n",
      "x29_month_January    158392 non-null uint8\n",
      "x29_month_July       158392 non-null uint8\n",
      "x29_month_Jun        158392 non-null uint8\n",
      "x29_month_Mar        158392 non-null uint8\n",
      "x29_month_May        158392 non-null uint8\n",
      "x29_month_Nov        158392 non-null uint8\n",
      "x29_month_Oct        158392 non-null uint8\n",
      "x29_month_sept.      158392 non-null uint8\n",
      "x30_day_friday       158392 non-null uint8\n",
      "x30_day_monday       158392 non-null uint8\n",
      "x30_day_thurday      158392 non-null uint8\n",
      "x30_day_tuesday      158392 non-null uint8\n",
      "x30_day_wednesday    158392 non-null uint8\n",
      "dtypes: float64(47), int64(1), object(3), uint8(20)\n",
      "memory usage: 65.9+ MB\n"
     ]
    }
   ],
   "source": [
    "df.info()"
   ]
  },
  {
   "cell_type": "code",
   "execution_count": 20,
   "metadata": {},
   "outputs": [],
   "source": [
    "columnsToDrop = ['x24','x29','x30']\n",
    "    \n",
    "for col in columnsToDrop:\n",
    "    if col in df:    \n",
    "        df.drop([col], axis = 1,inplace = True, errors = 'ignore')"
   ]
  },
  {
   "cell_type": "code",
   "execution_count": 21,
   "metadata": {},
   "outputs": [
    {
     "name": "stdout",
     "output_type": "stream",
     "text": [
      "<class 'pandas.core.frame.DataFrame'>\n",
      "Int64Index: 158392 entries, 0 to 159999\n",
      "Data columns (total 68 columns):\n",
      "x0                   158392 non-null float64\n",
      "x1                   158392 non-null float64\n",
      "x2                   158392 non-null float64\n",
      "x3                   158392 non-null float64\n",
      "x4                   158392 non-null float64\n",
      "x5                   158392 non-null float64\n",
      "x6                   158392 non-null float64\n",
      "x7                   158392 non-null float64\n",
      "x8                   158392 non-null float64\n",
      "x9                   158392 non-null float64\n",
      "x10                  158392 non-null float64\n",
      "x11                  158392 non-null float64\n",
      "x12                  158392 non-null float64\n",
      "x13                  158392 non-null float64\n",
      "x14                  158392 non-null float64\n",
      "x15                  158392 non-null float64\n",
      "x16                  158392 non-null float64\n",
      "x17                  158392 non-null float64\n",
      "x18                  158392 non-null float64\n",
      "x19                  158392 non-null float64\n",
      "x20                  158392 non-null float64\n",
      "x21                  158392 non-null float64\n",
      "x22                  158392 non-null float64\n",
      "x23                  158392 non-null float64\n",
      "x25                  158392 non-null float64\n",
      "x26                  158392 non-null float64\n",
      "x27                  158392 non-null float64\n",
      "x28                  158392 non-null float64\n",
      "x31                  158392 non-null float64\n",
      "x32                  158392 non-null float64\n",
      "x33                  158392 non-null float64\n",
      "x34                  158392 non-null float64\n",
      "x35                  158392 non-null float64\n",
      "x36                  158392 non-null float64\n",
      "x37                  158392 non-null float64\n",
      "x38                  158392 non-null float64\n",
      "x39                  158392 non-null float64\n",
      "x40                  158392 non-null float64\n",
      "x41                  158392 non-null float64\n",
      "x42                  158392 non-null float64\n",
      "x43                  158392 non-null float64\n",
      "x44                  158392 non-null float64\n",
      "x45                  158392 non-null float64\n",
      "x46                  158392 non-null float64\n",
      "x47                  158392 non-null float64\n",
      "x48                  158392 non-null float64\n",
      "x49                  158392 non-null float64\n",
      "y                    158392 non-null int64\n",
      "x24_area_america     158392 non-null uint8\n",
      "x24_area_asia        158392 non-null uint8\n",
      "x24_area_euorpe      158392 non-null uint8\n",
      "x29_month_Apr        158392 non-null uint8\n",
      "x29_month_Aug        158392 non-null uint8\n",
      "x29_month_Dev        158392 non-null uint8\n",
      "x29_month_Feb        158392 non-null uint8\n",
      "x29_month_January    158392 non-null uint8\n",
      "x29_month_July       158392 non-null uint8\n",
      "x29_month_Jun        158392 non-null uint8\n",
      "x29_month_Mar        158392 non-null uint8\n",
      "x29_month_May        158392 non-null uint8\n",
      "x29_month_Nov        158392 non-null uint8\n",
      "x29_month_Oct        158392 non-null uint8\n",
      "x29_month_sept.      158392 non-null uint8\n",
      "x30_day_friday       158392 non-null uint8\n",
      "x30_day_monday       158392 non-null uint8\n",
      "x30_day_thurday      158392 non-null uint8\n",
      "x30_day_tuesday      158392 non-null uint8\n",
      "x30_day_wednesday    158392 non-null uint8\n",
      "dtypes: float64(47), int64(1), uint8(20)\n",
      "memory usage: 62.2 MB\n"
     ]
    }
   ],
   "source": [
    "df.info()"
   ]
  },
  {
   "cell_type": "markdown",
   "metadata": {},
   "source": [
    "### Build Single Model"
   ]
  },
  {
   "cell_type": "code",
   "execution_count": 22,
   "metadata": {},
   "outputs": [],
   "source": [
    "X = df.drop(columns = 'y')\n",
    "y = df['y']"
   ]
  },
  {
   "cell_type": "code",
   "execution_count": 23,
   "metadata": {},
   "outputs": [
    {
     "name": "stdout",
     "output_type": "stream",
     "text": [
      "<class 'pandas.core.frame.DataFrame'>\n",
      "Int64Index: 158392 entries, 0 to 159999\n",
      "Data columns (total 67 columns):\n",
      "x0                   158392 non-null float64\n",
      "x1                   158392 non-null float64\n",
      "x2                   158392 non-null float64\n",
      "x3                   158392 non-null float64\n",
      "x4                   158392 non-null float64\n",
      "x5                   158392 non-null float64\n",
      "x6                   158392 non-null float64\n",
      "x7                   158392 non-null float64\n",
      "x8                   158392 non-null float64\n",
      "x9                   158392 non-null float64\n",
      "x10                  158392 non-null float64\n",
      "x11                  158392 non-null float64\n",
      "x12                  158392 non-null float64\n",
      "x13                  158392 non-null float64\n",
      "x14                  158392 non-null float64\n",
      "x15                  158392 non-null float64\n",
      "x16                  158392 non-null float64\n",
      "x17                  158392 non-null float64\n",
      "x18                  158392 non-null float64\n",
      "x19                  158392 non-null float64\n",
      "x20                  158392 non-null float64\n",
      "x21                  158392 non-null float64\n",
      "x22                  158392 non-null float64\n",
      "x23                  158392 non-null float64\n",
      "x25                  158392 non-null float64\n",
      "x26                  158392 non-null float64\n",
      "x27                  158392 non-null float64\n",
      "x28                  158392 non-null float64\n",
      "x31                  158392 non-null float64\n",
      "x32                  158392 non-null float64\n",
      "x33                  158392 non-null float64\n",
      "x34                  158392 non-null float64\n",
      "x35                  158392 non-null float64\n",
      "x36                  158392 non-null float64\n",
      "x37                  158392 non-null float64\n",
      "x38                  158392 non-null float64\n",
      "x39                  158392 non-null float64\n",
      "x40                  158392 non-null float64\n",
      "x41                  158392 non-null float64\n",
      "x42                  158392 non-null float64\n",
      "x43                  158392 non-null float64\n",
      "x44                  158392 non-null float64\n",
      "x45                  158392 non-null float64\n",
      "x46                  158392 non-null float64\n",
      "x47                  158392 non-null float64\n",
      "x48                  158392 non-null float64\n",
      "x49                  158392 non-null float64\n",
      "x24_area_america     158392 non-null uint8\n",
      "x24_area_asia        158392 non-null uint8\n",
      "x24_area_euorpe      158392 non-null uint8\n",
      "x29_month_Apr        158392 non-null uint8\n",
      "x29_month_Aug        158392 non-null uint8\n",
      "x29_month_Dev        158392 non-null uint8\n",
      "x29_month_Feb        158392 non-null uint8\n",
      "x29_month_January    158392 non-null uint8\n",
      "x29_month_July       158392 non-null uint8\n",
      "x29_month_Jun        158392 non-null uint8\n",
      "x29_month_Mar        158392 non-null uint8\n",
      "x29_month_May        158392 non-null uint8\n",
      "x29_month_Nov        158392 non-null uint8\n",
      "x29_month_Oct        158392 non-null uint8\n",
      "x29_month_sept.      158392 non-null uint8\n",
      "x30_day_friday       158392 non-null uint8\n",
      "x30_day_monday       158392 non-null uint8\n",
      "x30_day_thurday      158392 non-null uint8\n",
      "x30_day_tuesday      158392 non-null uint8\n",
      "x30_day_wednesday    158392 non-null uint8\n",
      "dtypes: float64(47), uint8(20)\n",
      "memory usage: 61.0 MB\n"
     ]
    }
   ],
   "source": [
    "X.info()"
   ]
  },
  {
   "cell_type": "code",
   "execution_count": 24,
   "metadata": {},
   "outputs": [],
   "source": [
    "test_proportion = 0.20\n",
    "X_train, X_test, y_train, y_test = train_test_split(X, y, test_size=test_proportion, stratify=y,random_state=1999)"
   ]
  },
  {
   "cell_type": "code",
   "execution_count": 25,
   "metadata": {},
   "outputs": [],
   "source": [
    "# %%time\n",
    "\n",
    "# from sklearn.model_selection import GridSearchCV\n",
    "# from sklearn.neighbors import KNeighborsClassifier\n",
    "\n",
    "# np.random.seed(1999)\n",
    "\n",
    "# knn = KNeighborsClassifier()\n",
    "\n",
    "# params_knn = {'n_neighbors': np.arange(10,14,2)}\n",
    "\n",
    "# knn_gs = GridSearchCV(knn, params_knn, cv=5)\n",
    "\n",
    "# knn_gs.fit(X_train, y_train)"
   ]
  },
  {
   "cell_type": "code",
   "execution_count": 26,
   "metadata": {},
   "outputs": [],
   "source": [
    "# knn_best = knn_gs.best_estimator_\n",
    "\n",
    "# print(knn_gs.best_params_)"
   ]
  },
  {
   "cell_type": "code",
   "execution_count": 27,
   "metadata": {},
   "outputs": [
    {
     "ename": "ModuleNotFoundError",
     "evalue": "No module named 'sklearn.neighbors.classification'",
     "output_type": "error",
     "traceback": [
      "\u001b[1;31m---------------------------------------------------------------------------\u001b[0m",
      "\u001b[1;31mModuleNotFoundError\u001b[0m                       Traceback (most recent call last)",
      "\u001b[1;32m<ipython-input-27-fb6d3921100a>\u001b[0m in \u001b[0;36m<module>\u001b[1;34m\u001b[0m\n\u001b[0;32m      1\u001b[0m \u001b[1;32mif\u001b[0m\u001b[1;33m(\u001b[0m\u001b[0mpath\u001b[0m\u001b[1;33m.\u001b[0m\u001b[0mexists\u001b[0m\u001b[1;33m(\u001b[0m\u001b[1;34m\"model_knn_save.pickle\"\u001b[0m\u001b[1;33m)\u001b[0m\u001b[1;33m)\u001b[0m\u001b[1;33m:\u001b[0m\u001b[1;33m\u001b[0m\u001b[1;33m\u001b[0m\u001b[0m\n\u001b[1;32m----> 2\u001b[1;33m     \u001b[0mmodel_knn\u001b[0m \u001b[1;33m=\u001b[0m \u001b[0mpickle\u001b[0m\u001b[1;33m.\u001b[0m\u001b[0mload\u001b[0m\u001b[1;33m(\u001b[0m\u001b[0mopen\u001b[0m\u001b[1;33m(\u001b[0m\u001b[1;34m\"model_knn_save.pickle\"\u001b[0m\u001b[1;33m,\u001b[0m \u001b[1;34m\"rb\"\u001b[0m\u001b[1;33m)\u001b[0m\u001b[1;33m)\u001b[0m\u001b[1;33m\u001b[0m\u001b[1;33m\u001b[0m\u001b[0m\n\u001b[0m\u001b[0;32m      3\u001b[0m     \u001b[0mprint\u001b[0m\u001b[1;33m(\u001b[0m\u001b[0mmodel_knn\u001b[0m\u001b[1;33m)\u001b[0m\u001b[1;33m\u001b[0m\u001b[1;33m\u001b[0m\u001b[0m\n\u001b[0;32m      4\u001b[0m \u001b[1;32melse\u001b[0m\u001b[1;33m:\u001b[0m\u001b[1;33m\u001b[0m\u001b[1;33m\u001b[0m\u001b[0m\n\u001b[0;32m      5\u001b[0m     \u001b[0mknn\u001b[0m \u001b[1;33m=\u001b[0m \u001b[0mKNeighborsClassifier\u001b[0m\u001b[1;33m(\u001b[0m\u001b[0mn_neighbors\u001b[0m\u001b[1;33m=\u001b[0m\u001b[1;36m12\u001b[0m\u001b[1;33m)\u001b[0m\u001b[1;33m\u001b[0m\u001b[1;33m\u001b[0m\u001b[0m\n",
      "\u001b[1;31mModuleNotFoundError\u001b[0m: No module named 'sklearn.neighbors.classification'"
     ]
    }
   ],
   "source": [
    "if(path.exists(\"model_knn_save.pickle\")):\n",
    "    model_knn = pickle.load(open(\"model_knn_save.pickle\", \"rb\")) \n",
    "    print(model_knn)\n",
    "else:\n",
    "    knn = KNeighborsClassifier(n_neighbors=12)\n",
    "    model_knn = knn.fit(X_train, y_train)\n",
    "    pickle.dump(model_knn, open( \"model_knn_save.pickle\", \"wb\" ))\n",
    "    print(model_knn)\n"
   ]
  },
  {
   "cell_type": "code",
   "execution_count": 30,
   "metadata": {},
   "outputs": [],
   "source": [
    "knn = KNeighborsClassifier(n_neighbors=12)\n",
    "model_knn = knn.fit(X_train, y_train)\n",
    "y_hat = np.zeros(y.shape)\n",
    "y_hat = model_knn.predict(X_test)\n",
    "cm = confusion_matrix(y_target=y_test, y_predicted=y_hat)\n",
    "acc= accuracy_score(y_test, y_hat)"
   ]
  },
  {
   "cell_type": "code",
   "execution_count": 31,
   "metadata": {},
   "outputs": [
    {
     "data": {
      "image/png": "[encoded data removed]",
      "text/plain": [
       "<Figure size 432x288 with 1 Axes>"
      ]
     },
     "metadata": {
      "needs_background": "light"
     },
     "output_type": "display_data"
    },
    {
     "name": "stdout",
     "output_type": "stream",
     "text": [
      "Accuracy:  0.8359796710754759\n"
     ]
    }
   ],
   "source": [
    "fig, ax = plot_confusion_matrix(conf_mat=cm)\n",
    "plt.title('Confusion Matrix')\n",
    "plt.show()\n",
    "print(\"Accuracy: \", acc)"
   ]
  },
  {
   "cell_type": "code",
   "execution_count": 32,
   "metadata": {},
   "outputs": [],
   "source": [
    "cost_matrix = np.array([[0, 10],[500, 0]])"
   ]
  },
  {
   "cell_type": "code",
   "execution_count": 33,
   "metadata": {},
   "outputs": [
    {
     "data": {
      "image/png": "[encoded data removed]",
      "text/plain": [
       "<Figure size 432x288 with 1 Axes>"
      ]
     },
     "metadata": {
      "needs_background": "light"
     },
     "output_type": "display_data"
    }
   ],
   "source": [
    "fig, ax = plot_confusion_matrix(conf_mat=cost_matrix,cmap=\"YlOrRd\")\n",
    "plt.title('Cost Matrix')\n",
    "plt.show()"
   ]
  },
  {
   "cell_type": "code",
   "execution_count": 34,
   "metadata": {},
   "outputs": [
    {
     "data": {
      "image/png": "[encoded data removed]",
      "text/plain": [
       "<Figure size 432x288 with 1 Axes>"
      ]
     },
     "metadata": {
      "needs_background": "light"
     },
     "output_type": "display_data"
    }
   ],
   "source": [
    "cost_calc = np.multiply(cm, cost_matrix)\n",
    "fig, ax = plot_confusion_matrix(conf_mat=cost_calc,cmap=\"OrRd\")\n",
    "plt.title('Cost Calculation')\n",
    "plt.show()"
   ]
  },
  {
   "cell_type": "code",
   "execution_count": 35,
   "metadata": {},
   "outputs": [],
   "source": [
    "class_cost = np.sum(cost_calc)"
   ]
  },
  {
   "cell_type": "code",
   "execution_count": 36,
   "metadata": {},
   "outputs": [],
   "source": [
    "y_score = model_knn.predict_proba(X_test)"
   ]
  },
  {
   "cell_type": "code",
   "execution_count": 37,
   "metadata": {},
   "outputs": [
    {
     "name": "stdout",
     "output_type": "stream",
     "text": [
      "KNN: f1=0.781 auc=0.878\n"
     ]
    },
    {
     "data": {
      "image/png": "[encoded data removed]",
      "text/plain": [
       "<Figure size 432x288 with 1 Axes>"
      ]
     },
     "metadata": {
      "needs_background": "light"
     },
     "output_type": "display_data"
    }
   ],
   "source": [
    "from sklearn.metrics import precision_recall_curve\n",
    "from sklearn.metrics import f1_score\n",
    "from sklearn.metrics import auc\n",
    "from matplotlib import pyplot\n",
    "\n",
    "knn_probs = y_score[:, 1]\n",
    "# predict class values\n",
    "knn_precision, knn_recall, knn_thresholds = precision_recall_curve(y_test, knn_probs)\n",
    "knn_f1, knn_auc = f1_score(y_test, y_hat), auc(knn_recall, knn_precision)\n",
    "# summarize scores\n",
    "print('KNN: f1=%.3f auc=%.3f' % (knn_f1, knn_auc))\n",
    "# plot the precision-recall curves\n",
    "# no_skill = len(testy[testy==1]) / len(testy)\n",
    "# pyplot.plot([0, 1], [no_skill, no_skill], linestyle='--', label='No Skill')\n",
    "pyplot.plot(knn_recall, knn_precision, marker='.', label='KNN')\n",
    "# axis labels\n",
    "pyplot.xlabel('Recall')\n",
    "pyplot.ylabel('Precision')\n",
    "# show the legend\n",
    "pyplot.legend()\n",
    "# show the plot\n",
    "pyplot.show()"
   ]
  },
  {
   "cell_type": "code",
   "execution_count": 42,
   "metadata": {},
   "outputs": [],
   "source": [
    "from sklearn.metrics import det_curve\n",
    "\n",
    "knn_fpr, knn_fnr, knn_thresholds = det_curve(y_test, knn_probs)"
   ]
  },
  {
   "cell_type": "code",
   "execution_count": 50,
   "metadata": {},
   "outputs": [],
   "source": [
    "def to_labels(pos_probs, threshold):\n",
    "\treturn (pos_probs >= threshold).astype('int')"
   ]
  },
  {
   "cell_type": "code",
   "execution_count": 67,
   "metadata": {},
   "outputs": [],
   "source": [
    "score = [confusion_matrix(y_target=y_test, y_predicted=to_labels(knn_probs, t))  for t in knn_thresholds]"
   ]
  },
  {
   "cell_type": "code",
   "execution_count": 70,
   "metadata": {},
   "outputs": [],
   "source": [
    "cost_list =[]\n",
    "\n",
    "for nscore in score:\n",
    "#     print(nscore)\n",
    "    fp = nscore[0][1]\n",
    "    fn = nscore[1][0]\n",
    "    cost_score = 500*fn+10*fp\n",
    "#     print(cost_score)\n",
    "    cost_list.append(cost_score)\n",
    "    "
   ]
  },
  {
   "cell_type": "code",
   "execution_count": 84,
   "metadata": {},
   "outputs": [
    {
     "data": {
      "image/png": "[encoded data removed]",
      "text/plain": [
       "<Figure size 432x288 with 2 Axes>"
      ]
     },
     "metadata": {
      "needs_background": "light"
     },
     "output_type": "display_data"
    }
   ],
   "source": [
    "fig, ax1 = plt.subplots()\n",
    "\n",
    "color = 'tab:blue'\n",
    "ax1.set_xlabel('Threshold')\n",
    "ax1.set_ylabel('Metrics', color=color)\n",
    "ax1.plot(knn_thresholds, knn_fpr, '-.',color= color, label='fpr')\n",
    "ax1.plot(knn_thresholds, knn_fnr, '--o',color= color,  label='fnr')\n",
    "ax1.tick_params(axis='y', labelcolor=color)\n",
    "ax1.legend(loc=0)\n",
    "\n",
    "ax2 = ax1.twinx()  # instantiate a second axes that shares the same x-axis\n",
    "\n",
    "color = 'tab:red'\n",
    "ax2.set_ylabel('$ cost', color=color)  # we already handled the x-label with ax1\n",
    "ax2.plot(knn_thresholds, cost_list, 's:',color= color, label='cost')\n",
    "ax2.tick_params(axis='y', labelcolor=color)\n",
    "\n",
    "ax2.legend(loc=0)\n",
    "fig.tight_layout()  # otherwise the right y-label is slightly clipped\n",
    "plt.show()"
   ]
  },
  {
   "cell_type": "code",
   "execution_count": null,
   "metadata": {},
   "outputs": [],
   "source": []
  }
 ],
 "metadata": {
  "kernelspec": {
   "display_name": "Python 3",
   "language": "python",
   "name": "python3"
  },
  "language_info": {
   "codemirror_mode": {
    "name": "ipython",
    "version": 3
   },
   "file_extension": ".py",
   "mimetype": "text/x-python",
   "name": "python",
   "nbconvert_exporter": "python",
   "pygments_lexer": "ipython3",
   "version": "3.6.12"
  },
  "toc": {
   "base_numbering": 1,
   "nav_menu": {},
   "number_sections": true,
   "sideBar": true,
   "skip_h1_title": false,
   "title_cell": "Table of Contents",
   "title_sidebar": "Contents",
   "toc_cell": false,
   "toc_position": {},
   "toc_section_display": true,
   "toc_window_display": false
  }
 },
 "nbformat": 4,
 "nbformat_minor": 2
}

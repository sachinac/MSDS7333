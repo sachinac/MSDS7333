{
 "cells": [
  {
   "cell_type": "markdown",
   "id": "italian-bumper",
   "metadata": {},
   "source": [
    "<div align=\"center\">\n",
    "    <font size=5> <b> MSDS 7333 Spring 2021: Case Study 06 </b></font>\n",
    "</div>\n",
    "<br>\n",
    "<div align=\"center\">\n",
    "    <font size=3> <b> Classification  Using Neural Networks </b> </font>\n",
    "</div>\n",
    "\n",
    "<br>\n",
    "<div align=\"center\">\n",
    "    <font size=3> <b> Sachin Chavan,Tazeb Abera, Gautam Kapila, Sandesh Ojha </b> </font>\n",
    "</div>"
   ]
  },
  {
   "cell_type": "markdown",
   "id": "challenging-scroll",
   "metadata": {
    "toc": true
   },
   "source": [
    "<h1>Table of Contents<span class=\"tocSkip\"></span></h1>\n",
    "<div class=\"toc\"><ul class=\"toc-item\"><li><span><a href=\"#Import-Modules\" data-toc-modified-id=\"Import-Modules-1\">Import Modules</a></span></li><li><span><a href=\"#Introduction\" data-toc-modified-id=\"Introduction-2\">Introduction</a></span></li><li><span><a href=\"#Business-Understanding\" data-toc-modified-id=\"Business-Understanding-3\">Business Understanding</a></span></li><li><span><a href=\"#Data-Exploration-&amp;-Quality\" data-toc-modified-id=\"Data-Exploration-&amp;-Quality-4\">Data Exploration &amp; Quality</a></span><ul class=\"toc-item\"><li><span><a href=\"#Load-Data\" data-toc-modified-id=\"Load-Data-4.1\">Load Data</a></span></li><li><span><a href=\"#DataFrame\" data-toc-modified-id=\"DataFrame-4.2\">DataFrame</a></span></li><li><span><a href=\"#Distribution-of-features\" data-toc-modified-id=\"Distribution-of-features-4.3\">Distribution of features</a></span></li><li><span><a href=\"#Heatmap\" data-toc-modified-id=\"Heatmap-4.4\">Heatmap</a></span></li><li><span><a href=\"#More-on-Data-Quality\" data-toc-modified-id=\"More-on-Data-Quality-4.5\">More on Data Quality</a></span></li><li><span><a href=\"#Sampled-Data\" data-toc-modified-id=\"Sampled-Data-4.6\">Sampled Data</a></span></li></ul></li><li><span><a href=\"#Architecture\" data-toc-modified-id=\"Architecture-5\">Architecture</a></span><ul class=\"toc-item\"><li><span><a href=\"#Vanishing-gradient-problem\" data-toc-modified-id=\"Vanishing-gradient-problem-5.1\">Vanishing gradient problem</a></span></li><li><span><a href=\"#Initial-NN-setup\" data-toc-modified-id=\"Initial-NN-setup-5.2\">Initial NN setup</a></span></li><li><span><a href=\"#Build-Deep-Neural-Network\" data-toc-modified-id=\"Build-Deep-Neural-Network-5.3\">Build Deep Neural Network</a></span></li></ul></li><li><span><a href=\"#Recommendation-&amp;-Evaluations\" data-toc-modified-id=\"Recommendation-&amp;-Evaluations-6\">Recommendation &amp; Evaluations</a></span></li><li><span><a href=\"#Conclusion\" data-toc-modified-id=\"Conclusion-7\">Conclusion</a></span></li><li><span><a href=\"#References\" data-toc-modified-id=\"References-8\">References</a></span></li></ul></div>"
   ]
  },
  {
   "cell_type": "markdown",
   "id": "greater-secretariat",
   "metadata": {},
   "source": [
    "# Import Modules"
   ]
  },
  {
   "cell_type": "code",
   "execution_count": 1,
   "id": "suitable-russian",
   "metadata": {},
   "outputs": [],
   "source": [
    "import pandas as pd\n",
    "import numpy as np\n",
    "import random\n",
    "import seaborn as sns\n",
    "import matplotlib.pyplot as pyplot\n",
    "from sklearn.model_selection import train_test_split\n",
    "\n",
    "import matplotlib.pyplot as plt\n",
    "import tensorflow as tf\n",
    "\n",
    "from sklearn.metrics import accuracy_score, precision_score, recall_score\n",
    "from sklearn.model_selection import train_test_split\n",
    "from tensorflow.keras import layers, losses\n",
    "from tensorflow.keras.datasets import fashion_mnist\n",
    "from tensorflow.keras.models import Model"
   ]
  },
  {
   "cell_type": "markdown",
   "id": "educational-aquarium",
   "metadata": {},
   "source": [
    "# Introduction\n",
    "\n",
    "This case study is about using neural networks for classification problem with the Higgs Boson dataset. The dataset that contains observations of kinematic properties measured by particle detectors in accelerator [[1]](#References).Higgs Boson is the unusal kind of subautomic particle discovered by Scottish physicist Peter Higgs [[2]](#References). The mainstream media always referred this particle as God particle after launch of a book The God particle by Leon Lederman. This particles are produced by quantum excitation of Higgs field [[2]](#References).In 1964, Peter Higgs proposed a mechanism to explain why some particle have mass. There are several ways by which particle can attain a mass like by interacting with Higgs field. Higgs field exist just like gravitational or magnetic field that doesn't change [(P. Onyisi,2013)](#References). The experiment was carried out in year 2012 by ATLAS and CMS and they found subautomic particle have properties similar to explained by Higgs mechanism.\n",
    "\n",
    "The dataset for this case study contains 11 million observations produced using Monte Carlo simulations and has observations of singal processes that produces Higgs Boson and background process that does not and shall be used to distinguish between signal processes and background process.So this is signal vs background classification problem.\n",
    "\n",
    "     "
   ]
  },
  {
   "cell_type": "markdown",
   "id": "continuing-veteran",
   "metadata": {},
   "source": [
    "# Business Understanding\n",
    "\n",
    "Deep learning is a new area in Machine Learning that attempts to model high level abstractions present in the raw data to understand the high varying functions underlying the data and to perform well generalized predictions for unseen data. This is accomplished through certain non-linear transformations of data through varying deep architectures such as Neural Networks. Deep learning aims at fulfilling the objective of true Artificial Intelligence and has recently been of great interest to researchers in machine learning. Tech giants like Google, Microsoft, Facebook and Baidu are investing hundreds of millions of dollars in bleeding-edge deep learning research and developing its applications [[2]](#References).\n",
    "\n",
    "As described in the paper (Baldi,2014) collisions at high energy particles are great source of finding exotic particles, basically these are classification problems and requires machine learning. Classical machine learning have limitations in learning non-linear patterns in the data and often requires features to be manually crafted and process is quite time consuming.However, Deep learning approach found to be more effective in reading and learning such non-linear structures and classifiying signals vs background processs more effectively compared to classical machine learning methods and that too witout manually crafting features as it is done in other modeling techniques.\n",
    "\n",
    "This field deals with fast and high energy collision of particles and how they form and decay. The formation and decay of these Higgs Boson can be observed and recorded. In the paper “Searching for Exotic Particles in High-Energy Physics with Deep Learning,” published in 2014, the authors used deep learning with neural networks to classify “exotic particle(s)” that results in particle collision. The Higgs Boson data was collected from the Large Hadron Collider’s detectors. In the paper above, they focused on improving past research that used other machine learning techniques. The deep learning method they used was built using the library standards in 2014 and it outperformed the previous methods. The model was implemented using Pylearn2 which is no longer supported.\n",
    "\n",
    "\n",
    "\n",
    "\n",
    "\n",
    "**Objective**\n",
    "\n",
    "Build a neural network model similar to that implemented in the paper (Baldi,2014) using TensorFlow to effectively classify signal and background processes to find exotic particles to prove that NN outperforms other techniques."
   ]
  },
  {
   "cell_type": "markdown",
   "id": "opponent-details",
   "metadata": {},
   "source": [
    "# Data Exploration & Quality\n",
    "\n",
    "The dataset was obtained from UCI website[[1]](#References). It contains data that was produced usign Monte Carlo simulations. Out of 21 features first 21 after target variables are low level kinematic properties measured by particle detectors and remaining 7 featuresa are function of 21 features.These are high level features as described on the UCI website. These are derived by physicists for the purpose of classification specially for deep learning. This eliminates the need for manually crafting feautre for data modeling. This data does not contain any missing values as indicated by the website."
   ]
  },
  {
   "cell_type": "markdown",
   "id": "prescribed-australian",
   "metadata": {},
   "source": [
    "## Load Data\n",
    "Here 50 records are randomly sampled from this huge dataset."
   ]
  },
  {
   "cell_type": "code",
   "execution_count": 2,
   "id": "becoming-forum",
   "metadata": {},
   "outputs": [],
   "source": [
    "#number of records in file (excludes header)\n",
    "#Random sample of 50K records from the dataset \n",
    "random.seed(10)\n",
    "filename = \"data/HIGGS.csv\"\n",
    "n = sum(1 for line in open(filename)) - 1 \n",
    "s = 500000 \n",
    "skip = sorted(random.sample(range(1,n+1),n-s)) \n",
    "higgs_ds = pd.read_csv(filename,header=None,skiprows=skip)"
   ]
  },
  {
   "cell_type": "markdown",
   "id": "atlantic-adolescent",
   "metadata": {},
   "source": [
    "## DataFrame\n",
    "\n",
    "* First column is target variable 1 for signal and 0 for background followed by 28 features.\n",
    "* next 21 features are low level features\n",
    "* remaining 7 features are high level features."
   ]
  },
  {
   "cell_type": "code",
   "execution_count": 3,
   "id": "binary-welcome",
   "metadata": {},
   "outputs": [
    {
     "data": {
      "text/html": [
       "<div>\n",
       "<style scoped>\n",
       "    .dataframe tbody tr th:only-of-type {\n",
       "        vertical-align: middle;\n",
       "    }\n",
       "\n",
       "    .dataframe tbody tr th {\n",
       "        vertical-align: top;\n",
       "    }\n",
       "\n",
       "    .dataframe thead th {\n",
       "        text-align: right;\n",
       "    }\n",
       "</style>\n",
       "<table border=\"1\" class=\"dataframe\">\n",
       "  <thead>\n",
       "    <tr style=\"text-align: right;\">\n",
       "      <th></th>\n",
       "      <th>target</th>\n",
       "      <th>lepton_pT</th>\n",
       "      <th>lepton_eta</th>\n",
       "      <th>lepton_phi</th>\n",
       "      <th>missing_energy_magnitude</th>\n",
       "      <th>missing_energy_phi</th>\n",
       "      <th>jet_1pt</th>\n",
       "      <th>jet_1eta</th>\n",
       "      <th>jet_1phi</th>\n",
       "      <th>jet_1b-tag</th>\n",
       "      <th>...</th>\n",
       "      <th>jet_4eta</th>\n",
       "      <th>jet_4phi</th>\n",
       "      <th>jet_4b-tag</th>\n",
       "      <th>m_jj</th>\n",
       "      <th>m_jjj</th>\n",
       "      <th>m_lv</th>\n",
       "      <th>m_jlv</th>\n",
       "      <th>m_bb</th>\n",
       "      <th>m_wbb</th>\n",
       "      <th>m_wwbb</th>\n",
       "    </tr>\n",
       "  </thead>\n",
       "  <tbody>\n",
       "    <tr>\n",
       "      <th>0</th>\n",
       "      <td>1.0</td>\n",
       "      <td>0.869293</td>\n",
       "      <td>-0.635082</td>\n",
       "      <td>0.225690</td>\n",
       "      <td>0.327470</td>\n",
       "      <td>-0.689993</td>\n",
       "      <td>0.754202</td>\n",
       "      <td>-0.248573</td>\n",
       "      <td>-1.092064</td>\n",
       "      <td>0.000000</td>\n",
       "      <td>...</td>\n",
       "      <td>-0.010455</td>\n",
       "      <td>-0.045767</td>\n",
       "      <td>3.101961</td>\n",
       "      <td>1.353760</td>\n",
       "      <td>0.979563</td>\n",
       "      <td>0.978076</td>\n",
       "      <td>0.920005</td>\n",
       "      <td>0.721657</td>\n",
       "      <td>0.988751</td>\n",
       "      <td>0.876678</td>\n",
       "    </tr>\n",
       "    <tr>\n",
       "      <th>1</th>\n",
       "      <td>1.0</td>\n",
       "      <td>0.798835</td>\n",
       "      <td>1.470639</td>\n",
       "      <td>-1.635975</td>\n",
       "      <td>0.453773</td>\n",
       "      <td>0.425629</td>\n",
       "      <td>1.104875</td>\n",
       "      <td>1.282322</td>\n",
       "      <td>1.381664</td>\n",
       "      <td>0.000000</td>\n",
       "      <td>...</td>\n",
       "      <td>1.128848</td>\n",
       "      <td>0.900461</td>\n",
       "      <td>0.000000</td>\n",
       "      <td>0.909753</td>\n",
       "      <td>1.108330</td>\n",
       "      <td>0.985692</td>\n",
       "      <td>0.951331</td>\n",
       "      <td>0.803252</td>\n",
       "      <td>0.865924</td>\n",
       "      <td>0.780118</td>\n",
       "    </tr>\n",
       "    <tr>\n",
       "      <th>2</th>\n",
       "      <td>0.0</td>\n",
       "      <td>1.205115</td>\n",
       "      <td>0.916450</td>\n",
       "      <td>-1.208732</td>\n",
       "      <td>0.354093</td>\n",
       "      <td>-0.705644</td>\n",
       "      <td>1.124387</td>\n",
       "      <td>1.044667</td>\n",
       "      <td>0.787374</td>\n",
       "      <td>0.000000</td>\n",
       "      <td>...</td>\n",
       "      <td>-0.889083</td>\n",
       "      <td>1.402656</td>\n",
       "      <td>0.000000</td>\n",
       "      <td>0.842202</td>\n",
       "      <td>0.653404</td>\n",
       "      <td>0.986041</td>\n",
       "      <td>0.499786</td>\n",
       "      <td>0.532321</td>\n",
       "      <td>0.580379</td>\n",
       "      <td>0.588988</td>\n",
       "    </tr>\n",
       "    <tr>\n",
       "      <th>3</th>\n",
       "      <td>0.0</td>\n",
       "      <td>0.608871</td>\n",
       "      <td>-0.521127</td>\n",
       "      <td>0.287280</td>\n",
       "      <td>0.649669</td>\n",
       "      <td>0.197985</td>\n",
       "      <td>0.511168</td>\n",
       "      <td>1.236772</td>\n",
       "      <td>-0.670184</td>\n",
       "      <td>2.173076</td>\n",
       "      <td>...</td>\n",
       "      <td>1.152167</td>\n",
       "      <td>0.677386</td>\n",
       "      <td>0.000000</td>\n",
       "      <td>0.432535</td>\n",
       "      <td>0.925063</td>\n",
       "      <td>0.983252</td>\n",
       "      <td>0.770114</td>\n",
       "      <td>1.497139</td>\n",
       "      <td>0.925299</td>\n",
       "      <td>0.730882</td>\n",
       "    </tr>\n",
       "    <tr>\n",
       "      <th>4</th>\n",
       "      <td>0.0</td>\n",
       "      <td>0.367665</td>\n",
       "      <td>-0.881496</td>\n",
       "      <td>0.232349</td>\n",
       "      <td>1.258956</td>\n",
       "      <td>1.728993</td>\n",
       "      <td>0.726262</td>\n",
       "      <td>0.981292</td>\n",
       "      <td>-0.303185</td>\n",
       "      <td>0.000000</td>\n",
       "      <td>...</td>\n",
       "      <td>1.871726</td>\n",
       "      <td>-0.460841</td>\n",
       "      <td>0.000000</td>\n",
       "      <td>0.806875</td>\n",
       "      <td>0.757239</td>\n",
       "      <td>0.987123</td>\n",
       "      <td>0.881511</td>\n",
       "      <td>0.625056</td>\n",
       "      <td>0.869624</td>\n",
       "      <td>1.198134</td>\n",
       "    </tr>\n",
       "    <tr>\n",
       "      <th>...</th>\n",
       "      <td>...</td>\n",
       "      <td>...</td>\n",
       "      <td>...</td>\n",
       "      <td>...</td>\n",
       "      <td>...</td>\n",
       "      <td>...</td>\n",
       "      <td>...</td>\n",
       "      <td>...</td>\n",
       "      <td>...</td>\n",
       "      <td>...</td>\n",
       "      <td>...</td>\n",
       "      <td>...</td>\n",
       "      <td>...</td>\n",
       "      <td>...</td>\n",
       "      <td>...</td>\n",
       "      <td>...</td>\n",
       "      <td>...</td>\n",
       "      <td>...</td>\n",
       "      <td>...</td>\n",
       "      <td>...</td>\n",
       "      <td>...</td>\n",
       "    </tr>\n",
       "    <tr>\n",
       "      <th>499996</th>\n",
       "      <td>0.0</td>\n",
       "      <td>1.343287</td>\n",
       "      <td>-0.557164</td>\n",
       "      <td>-1.376300</td>\n",
       "      <td>0.740613</td>\n",
       "      <td>-1.105498</td>\n",
       "      <td>0.544513</td>\n",
       "      <td>-0.217876</td>\n",
       "      <td>0.529035</td>\n",
       "      <td>0.000000</td>\n",
       "      <td>...</td>\n",
       "      <td>0.319343</td>\n",
       "      <td>-0.003594</td>\n",
       "      <td>3.101961</td>\n",
       "      <td>0.814111</td>\n",
       "      <td>0.905735</td>\n",
       "      <td>0.997263</td>\n",
       "      <td>0.702615</td>\n",
       "      <td>0.504248</td>\n",
       "      <td>0.704419</td>\n",
       "      <td>0.699645</td>\n",
       "    </tr>\n",
       "    <tr>\n",
       "      <th>499997</th>\n",
       "      <td>0.0</td>\n",
       "      <td>3.057899</td>\n",
       "      <td>-0.531841</td>\n",
       "      <td>0.764461</td>\n",
       "      <td>0.397572</td>\n",
       "      <td>0.094738</td>\n",
       "      <td>2.878665</td>\n",
       "      <td>-0.179257</td>\n",
       "      <td>-0.915218</td>\n",
       "      <td>0.000000</td>\n",
       "      <td>...</td>\n",
       "      <td>-1.014007</td>\n",
       "      <td>0.377179</td>\n",
       "      <td>0.000000</td>\n",
       "      <td>1.030930</td>\n",
       "      <td>0.802339</td>\n",
       "      <td>0.984593</td>\n",
       "      <td>0.873965</td>\n",
       "      <td>1.661635</td>\n",
       "      <td>1.609320</td>\n",
       "      <td>1.555179</td>\n",
       "    </tr>\n",
       "    <tr>\n",
       "      <th>499998</th>\n",
       "      <td>1.0</td>\n",
       "      <td>0.837450</td>\n",
       "      <td>-0.536711</td>\n",
       "      <td>0.285060</td>\n",
       "      <td>0.704771</td>\n",
       "      <td>-1.614450</td>\n",
       "      <td>0.771150</td>\n",
       "      <td>-0.611987</td>\n",
       "      <td>1.372240</td>\n",
       "      <td>2.173076</td>\n",
       "      <td>...</td>\n",
       "      <td>0.814873</td>\n",
       "      <td>-1.270461</td>\n",
       "      <td>3.101961</td>\n",
       "      <td>0.784877</td>\n",
       "      <td>0.783646</td>\n",
       "      <td>1.053911</td>\n",
       "      <td>0.736185</td>\n",
       "      <td>1.097180</td>\n",
       "      <td>0.929516</td>\n",
       "      <td>0.835774</td>\n",
       "    </tr>\n",
       "    <tr>\n",
       "      <th>499999</th>\n",
       "      <td>0.0</td>\n",
       "      <td>0.419091</td>\n",
       "      <td>-0.685728</td>\n",
       "      <td>0.265085</td>\n",
       "      <td>1.403688</td>\n",
       "      <td>0.968891</td>\n",
       "      <td>0.801197</td>\n",
       "      <td>1.312029</td>\n",
       "      <td>-1.006136</td>\n",
       "      <td>0.000000</td>\n",
       "      <td>...</td>\n",
       "      <td>-0.646731</td>\n",
       "      <td>0.914334</td>\n",
       "      <td>0.000000</td>\n",
       "      <td>0.834974</td>\n",
       "      <td>1.309423</td>\n",
       "      <td>0.995134</td>\n",
       "      <td>1.075295</td>\n",
       "      <td>1.098666</td>\n",
       "      <td>1.072039</td>\n",
       "      <td>1.351958</td>\n",
       "    </tr>\n",
       "    <tr>\n",
       "      <th>500000</th>\n",
       "      <td>1.0</td>\n",
       "      <td>1.595473</td>\n",
       "      <td>1.246626</td>\n",
       "      <td>-1.321368</td>\n",
       "      <td>0.865705</td>\n",
       "      <td>1.532427</td>\n",
       "      <td>0.456021</td>\n",
       "      <td>1.729906</td>\n",
       "      <td>-0.394657</td>\n",
       "      <td>0.000000</td>\n",
       "      <td>...</td>\n",
       "      <td>-2.134987</td>\n",
       "      <td>0.522566</td>\n",
       "      <td>0.000000</td>\n",
       "      <td>0.901468</td>\n",
       "      <td>0.786123</td>\n",
       "      <td>0.980619</td>\n",
       "      <td>1.144889</td>\n",
       "      <td>0.692346</td>\n",
       "      <td>0.788754</td>\n",
       "      <td>0.725130</td>\n",
       "    </tr>\n",
       "  </tbody>\n",
       "</table>\n",
       "<p>500001 rows × 29 columns</p>\n",
       "</div>"
      ],
      "text/plain": [
       "        target  lepton_pT  lepton_eta  lepton_phi  missing_energy_magnitude  \\\n",
       "0          1.0   0.869293   -0.635082    0.225690                  0.327470   \n",
       "1          1.0   0.798835    1.470639   -1.635975                  0.453773   \n",
       "2          0.0   1.205115    0.916450   -1.208732                  0.354093   \n",
       "3          0.0   0.608871   -0.521127    0.287280                  0.649669   \n",
       "4          0.0   0.367665   -0.881496    0.232349                  1.258956   \n",
       "...        ...        ...         ...         ...                       ...   \n",
       "499996     0.0   1.343287   -0.557164   -1.376300                  0.740613   \n",
       "499997     0.0   3.057899   -0.531841    0.764461                  0.397572   \n",
       "499998     1.0   0.837450   -0.536711    0.285060                  0.704771   \n",
       "499999     0.0   0.419091   -0.685728    0.265085                  1.403688   \n",
       "500000     1.0   1.595473    1.246626   -1.321368                  0.865705   \n",
       "\n",
       "        missing_energy_phi   jet_1pt  jet_1eta  jet_1phi  jet_1b-tag  ...  \\\n",
       "0                -0.689993  0.754202 -0.248573 -1.092064    0.000000  ...   \n",
       "1                 0.425629  1.104875  1.282322  1.381664    0.000000  ...   \n",
       "2                -0.705644  1.124387  1.044667  0.787374    0.000000  ...   \n",
       "3                 0.197985  0.511168  1.236772 -0.670184    2.173076  ...   \n",
       "4                 1.728993  0.726262  0.981292 -0.303185    0.000000  ...   \n",
       "...                    ...       ...       ...       ...         ...  ...   \n",
       "499996           -1.105498  0.544513 -0.217876  0.529035    0.000000  ...   \n",
       "499997            0.094738  2.878665 -0.179257 -0.915218    0.000000  ...   \n",
       "499998           -1.614450  0.771150 -0.611987  1.372240    2.173076  ...   \n",
       "499999            0.968891  0.801197  1.312029 -1.006136    0.000000  ...   \n",
       "500000            1.532427  0.456021  1.729906 -0.394657    0.000000  ...   \n",
       "\n",
       "        jet_4eta  jet_4phi  jet_4b-tag      m_jj     m_jjj      m_lv  \\\n",
       "0      -0.010455 -0.045767    3.101961  1.353760  0.979563  0.978076   \n",
       "1       1.128848  0.900461    0.000000  0.909753  1.108330  0.985692   \n",
       "2      -0.889083  1.402656    0.000000  0.842202  0.653404  0.986041   \n",
       "3       1.152167  0.677386    0.000000  0.432535  0.925063  0.983252   \n",
       "4       1.871726 -0.460841    0.000000  0.806875  0.757239  0.987123   \n",
       "...          ...       ...         ...       ...       ...       ...   \n",
       "499996  0.319343 -0.003594    3.101961  0.814111  0.905735  0.997263   \n",
       "499997 -1.014007  0.377179    0.000000  1.030930  0.802339  0.984593   \n",
       "499998  0.814873 -1.270461    3.101961  0.784877  0.783646  1.053911   \n",
       "499999 -0.646731  0.914334    0.000000  0.834974  1.309423  0.995134   \n",
       "500000 -2.134987  0.522566    0.000000  0.901468  0.786123  0.980619   \n",
       "\n",
       "           m_jlv      m_bb     m_wbb    m_wwbb  \n",
       "0       0.920005  0.721657  0.988751  0.876678  \n",
       "1       0.951331  0.803252  0.865924  0.780118  \n",
       "2       0.499786  0.532321  0.580379  0.588988  \n",
       "3       0.770114  1.497139  0.925299  0.730882  \n",
       "4       0.881511  0.625056  0.869624  1.198134  \n",
       "...          ...       ...       ...       ...  \n",
       "499996  0.702615  0.504248  0.704419  0.699645  \n",
       "499997  0.873965  1.661635  1.609320  1.555179  \n",
       "499998  0.736185  1.097180  0.929516  0.835774  \n",
       "499999  1.075295  1.098666  1.072039  1.351958  \n",
       "500000  1.144889  0.692346  0.788754  0.725130  \n",
       "\n",
       "[500001 rows x 29 columns]"
      ]
     },
     "execution_count": 3,
     "metadata": {},
     "output_type": "execute_result"
    }
   ],
   "source": [
    "features = ['target','lepton_pT','lepton_eta','lepton_phi','missing_energy_magnitude','missing_energy_phi',\n",
    "'jet_1pt','jet_1eta','jet_1phi','jet_1b-tag','jet_2pt','jet_2eta','jet_2phi','jet_2b-tag',\n",
    "'jet_3pt','jet_3eta','jet_3phi','jet_3b-tag','jet_4pt','jet_4eta','jet_4phi','jet_4b-tag',\n",
    "'m_jj','m_jjj','m_lv','m_jlv','m_bb','m_wbb','m_wwbb']\n",
    "higgs_ds.rename(columns=dict(zip(higgs_ds.columns, features)),inplace=True)\n",
    "higgs_ds"
   ]
  },
  {
   "cell_type": "code",
   "execution_count": 4,
   "id": "considerable-mississippi",
   "metadata": {},
   "outputs": [
    {
     "name": "stdout",
     "output_type": "stream",
     "text": [
      "<class 'pandas.core.frame.DataFrame'>\n",
      "RangeIndex: 500001 entries, 0 to 500000\n",
      "Data columns (total 29 columns):\n",
      " #   Column                    Non-Null Count   Dtype  \n",
      "---  ------                    --------------   -----  \n",
      " 0   target                    500001 non-null  float64\n",
      " 1   lepton_pT                 500001 non-null  float64\n",
      " 2   lepton_eta                500001 non-null  float64\n",
      " 3   lepton_phi                500001 non-null  float64\n",
      " 4   missing_energy_magnitude  500001 non-null  float64\n",
      " 5   missing_energy_phi        500001 non-null  float64\n",
      " 6   jet_1pt                   500001 non-null  float64\n",
      " 7   jet_1eta                  500001 non-null  float64\n",
      " 8   jet_1phi                  500001 non-null  float64\n",
      " 9   jet_1b-tag                500001 non-null  float64\n",
      " 10  jet_2pt                   500001 non-null  float64\n",
      " 11  jet_2eta                  500001 non-null  float64\n",
      " 12  jet_2phi                  500001 non-null  float64\n",
      " 13  jet_2b-tag                500001 non-null  float64\n",
      " 14  jet_3pt                   500001 non-null  float64\n",
      " 15  jet_3eta                  500001 non-null  float64\n",
      " 16  jet_3phi                  500001 non-null  float64\n",
      " 17  jet_3b-tag                500001 non-null  float64\n",
      " 18  jet_4pt                   500001 non-null  float64\n",
      " 19  jet_4eta                  500001 non-null  float64\n",
      " 20  jet_4phi                  500001 non-null  float64\n",
      " 21  jet_4b-tag                500001 non-null  float64\n",
      " 22  m_jj                      500001 non-null  float64\n",
      " 23  m_jjj                     500001 non-null  float64\n",
      " 24  m_lv                      500001 non-null  float64\n",
      " 25  m_jlv                     500001 non-null  float64\n",
      " 26  m_bb                      500001 non-null  float64\n",
      " 27  m_wbb                     500001 non-null  float64\n",
      " 28  m_wwbb                    500001 non-null  float64\n",
      "dtypes: float64(29)\n",
      "memory usage: 110.6 MB\n"
     ]
    }
   ],
   "source": [
    "higgs_ds.info()"
   ]
  },
  {
   "cell_type": "markdown",
   "id": "black-offering",
   "metadata": {},
   "source": [
    "## Distribution of features\n",
    "\n",
    "Distribution of high level features is almost same. Skewness exists on feautures like lepton_phi,jet_2pt,jet_3pt and so on but all high level features shows skewness. Below two plot indicates dimensionality reduction may help to get unique features."
   ]
  },
  {
   "cell_type": "code",
   "execution_count": 5,
   "id": "suited-dispatch",
   "metadata": {
    "scrolled": true
   },
   "outputs": [
    {
     "data": {
      "text/plain": [
       "<matplotlib.axes._subplots.AxesSubplot at 0x7fdc7de57da0>"
      ]
     },
     "execution_count": 5,
     "metadata": {},
     "output_type": "execute_result"
    },
    {
     "data": {
      "image/png": "[encoded data removed]",
      "text/plain": [
       "<Figure size 1440x288 with 1 Axes>"
      ]
     },
     "metadata": {
      "needs_background": "light"
     },
     "output_type": "display_data"
    }
   ],
   "source": [
    "plt.figure(figsize=(20,4))\n",
    "x=sns.boxplot(x=\"variable\", y=\"value\", data=higgs_ds.melt())\n",
    "loc, labels = plt.xticks()\n",
    "x.set_xticklabels(labels, rotation=45)\n",
    "x"
   ]
  },
  {
   "cell_type": "markdown",
   "id": "technical-peninsula",
   "metadata": {},
   "source": [
    "## Heatmap\n",
    "\n",
    "There are more negatively correalted features compared to positively correalted."
   ]
  },
  {
   "cell_type": "code",
   "execution_count": 6,
   "id": "ongoing-newspaper",
   "metadata": {},
   "outputs": [
    {
     "data": {
      "text/plain": [
       "<matplotlib.axes._subplots.AxesSubplot at 0x7fdc7df5bf98>"
      ]
     },
     "execution_count": 6,
     "metadata": {},
     "output_type": "execute_result"
    },
    {
     "data": {
      "image/png": "[encoded data removed]",
      "text/plain": [
       "<Figure size 1440x360 with 2 Axes>"
      ]
     },
     "metadata": {
      "needs_background": "light"
     },
     "output_type": "display_data"
    }
   ],
   "source": [
    "plt.figure(figsize=(20,5))\n",
    "sns.heatmap(higgs_ds.iloc[:,1:].corr())"
   ]
  },
  {
   "cell_type": "markdown",
   "id": "mediterranean-connection",
   "metadata": {},
   "source": [
    "## More on Data Quality\n",
    "\n",
    "The HIGGS data set is nearly balanced, with 52.99% positive examples, that’s why we did not perform subsampling or oversampling on the data.\n",
    "\n",
    "|| label |count|%|\n",
    "| --- | --- |--- | --- |\n",
    "|signal| 1 |5829123| 52.99%|\n",
    "|background| 0 | 5170877 | 47.01%|\n",
    "\n",
    "The paper mentioned that various numbers of examples were used for different stages of their study.\n",
    " * Hyper-parameters selection: Using a subset of the HIGGS data consisting of 2.6 million training examples and 100,000 validation examples.\n",
    " * Hyper-parameters optimization: Using complete 11 million examples. \n",
    " * Performance testing: Classifiers were tested on 500,000 simulated examples generated from the same Monte Carlo procedures as the training sets.\n",
    " \n",
    "As the paper was published in 2014, the original study might be not thorough due to expensive computational cost. In this case study, the full dataset (11 million data) is used to build and validate models.\n"
   ]
  },
  {
   "cell_type": "markdown",
   "id": "statutory-violin",
   "metadata": {},
   "source": [
    "## Sampled Data \n",
    "\n",
    "Randomly sample data too has sample proportion of singal (52.96%) and background (47.04%) observations which is nearly balanced."
   ]
  },
  {
   "cell_type": "code",
   "execution_count": 7,
   "id": "recorded-history",
   "metadata": {},
   "outputs": [
    {
     "data": {
      "text/html": [
       "<div>\n",
       "<style scoped>\n",
       "    .dataframe tbody tr th:only-of-type {\n",
       "        vertical-align: middle;\n",
       "    }\n",
       "\n",
       "    .dataframe tbody tr th {\n",
       "        vertical-align: top;\n",
       "    }\n",
       "\n",
       "    .dataframe thead th {\n",
       "        text-align: right;\n",
       "    }\n",
       "</style>\n",
       "<table border=\"1\" class=\"dataframe\">\n",
       "  <thead>\n",
       "    <tr style=\"text-align: right;\">\n",
       "      <th></th>\n",
       "      <th>target</th>\n",
       "      <th>counts</th>\n",
       "    </tr>\n",
       "  </thead>\n",
       "  <tbody>\n",
       "    <tr>\n",
       "      <th>0</th>\n",
       "      <td>0.0</td>\n",
       "      <td>235091</td>\n",
       "    </tr>\n",
       "    <tr>\n",
       "      <th>1</th>\n",
       "      <td>1.0</td>\n",
       "      <td>264910</td>\n",
       "    </tr>\n",
       "  </tbody>\n",
       "</table>\n",
       "</div>"
      ],
      "text/plain": [
       "   target  counts\n",
       "0     0.0  235091\n",
       "1     1.0  264910"
      ]
     },
     "execution_count": 7,
     "metadata": {},
     "output_type": "execute_result"
    }
   ],
   "source": [
    "higgs_ds.groupby(['target']).size().reset_index(name='counts')"
   ]
  },
  {
   "cell_type": "markdown",
   "id": "conceptual-brazilian",
   "metadata": {},
   "source": [
    "# Architecture\n",
    "\n",
    "Prior to strated building the model, we studied the original arictecture stated in the paper. In this case study, we use TensorFlow to architect a Neural Network to replicate the results presented in [2]. We first load the HIGGS Data [1], explore data analysis and then split the data into train and test data sets (80/20). \n",
    "\n",
    "## Vanishing gradient problem\n",
    "\n",
    "Vanishing gradient problem can be aleviated by following steps:\n",
    "\n",
    "* Faster processing using GPUs to speed up stochastic gradient descent.\n",
    "* larger training sets\n",
    "* using dropout \n",
    "* Dimensionality reduction.\n",
    "\n",
    "\n",
    "\n",
    "\n",
    "## Initial NN setup\n",
    "\n",
    "Weights initialized from normal distribution with mean 0 and SDs as follows:\n",
    "\n",
    "First Layer   - SD - 0.1\n",
    "\n",
    "Hidden Layers - SD - 0.05\n",
    "\n",
    "Output Layers - SD - 0.001\n",
    "\n",
    "Mini Batches of size 100\n",
    "\n",
    "Momentum for first 200 epochs - 0.9 to 0.99\n",
    "\n",
    "Learning rate decayed by factor 1.0000002\n",
    "\n",
    "## Build Deep Neural Network\n",
    "\n",
    "Then we build the NN models and then attempt to optimize the hyperparameters like the number of layers, the number of neurons and the learning rate. We assigned the same initial learning rate used in the original paper and used the exponential decay learning rate method during the training of the model. We used AUC as a metric to measure the goodness of the NN models to perform an apple to apple comparison to the model found in [2]. Finally, we visualized AUC trends for both train and test data\n",
    "and the learning rate decay curve through the model training process.\n",
    "\n",
    "\n",
    "We used TensorFlow with Keras package to build our model. To replicate the original\n",
    "model in the paper, we used the same hyperparameters from the paper as listed below.\n",
    "* Neurons = 300 units per layer\n",
    "* Number of Layers = 5 layers (4 Dense layers + 1 output layer)\n",
    "* Activation Function = tanh for the Dense layers, sigmoid for output layer\n",
    "* Initial Learning Rate = 0.05\n",
    "* Learning Rate Decay = Exponential Decay\n",
    "* Momentum = 0.9\n",
    "* Metrics = AUC\n",
    "* Epoch's = 20 (for all models) and 100 (for two first models)\n",
    "* Batch Size = 100\n",
    "\n",
    "\n",
    "......"
   ]
  },
  {
   "cell_type": "code",
   "execution_count": 44,
   "id": "radio-birthday",
   "metadata": {},
   "outputs": [
    {
     "name": "stdout",
     "output_type": "stream",
     "text": [
      " \n",
      "Shape of the dataframe\n",
      "Train set (400000, 28)\n",
      "Test  set (100001, 28)\n"
     ]
    }
   ],
   "source": [
    "X_train, X_test, y_train, y_test = train_test_split(\n",
    "    np.array(higgs_ds.iloc[:,1:]), np.array(higgs_ds.iloc[:,0]), test_size=0.2, random_state=42)\n",
    "print(' ')\n",
    "print('Shape of the dataframe')\n",
    "print('Train set',X_train.shape)\n",
    "print('Test  set',X_test.shape)"
   ]
  },
  {
   "cell_type": "code",
   "execution_count": null,
   "id": "explicit-think",
   "metadata": {},
   "outputs": [],
   "source": []
  },
  {
   "cell_type": "code",
   "execution_count": 78,
   "id": "embedded-breakfast",
   "metadata": {},
   "outputs": [],
   "source": [
    "import tensorflow as tf\n",
    "from tensorflow import keras\n",
    "from tensorflow.keras import layers"
   ]
  },
  {
   "cell_type": "code",
   "execution_count": 145,
   "id": "altered-anaheim",
   "metadata": {},
   "outputs": [],
   "source": [
    "model = tf.keras.Sequential()\n",
    "model.add(tf.keras.Input(shape=(28,)))\n",
    "model.add(layers.Dense(300, activation='relu',name=\"h0\",\n",
    "                       kernel_initializer=tf.keras.initializers.RandomNormal(mean=0., stddev=.1)))\n",
    "model.add(layers.Dense(300, activation='relu',name=\"h1\",\n",
    "          kernel_initializer=tf.keras.initializers.RandomNormal(mean=0., stddev=.05)))\n",
    "model.add(layers.Dense(300, activation='relu',name=\"h2\",\n",
    "          kernel_initializer=tf.keras.initializers.RandomNormal(mean=0., stddev=.05)))\n",
    "model.add(layers.Dense(300, activation='relu',name=\"h3\",\n",
    "          kernel_initializer=tf.keras.initializers.RandomNormal(mean=0., stddev=.05)))\n",
    "model.add(layers.Dense(1, activation='sigmoid',name=\"y\",\n",
    "          kernel_initializer=tf.keras.initializers.RandomNormal(mean=0., stddev= 0.001)))"
   ]
  },
  {
   "cell_type": "code",
   "execution_count": 146,
   "id": "radio-sound",
   "metadata": {},
   "outputs": [
    {
     "name": "stdout",
     "output_type": "stream",
     "text": [
      "Model: \"sequential_16\"\n",
      "_________________________________________________________________\n",
      "Layer (type)                 Output Shape              Param #   \n",
      "=================================================================\n",
      "h0 (Dense)                   (None, 300)               8700      \n",
      "_________________________________________________________________\n",
      "h1 (Dense)                   (None, 300)               90300     \n",
      "_________________________________________________________________\n",
      "h2 (Dense)                   (None, 300)               90300     \n",
      "_________________________________________________________________\n",
      "h3 (Dense)                   (None, 300)               90300     \n",
      "_________________________________________________________________\n",
      "y (Dense)                    (None, 1)                 301       \n",
      "=================================================================\n",
      "Total params: 279,901\n",
      "Trainable params: 279,901\n",
      "Non-trainable params: 0\n",
      "_________________________________________________________________\n"
     ]
    }
   ],
   "source": [
    "model.summary()"
   ]
  },
  {
   "cell_type": "code",
   "execution_count": null,
   "id": "simple-breed",
   "metadata": {},
   "outputs": [],
   "source": []
  },
  {
   "cell_type": "code",
   "execution_count": 147,
   "id": "nonprofit-bibliography",
   "metadata": {},
   "outputs": [],
   "source": [
    "lr_schedule = keras.optimizers.schedules.ExponentialDecay(\n",
    "    initial_learning_rate=.000001,\n",
    "    decay_steps=10000,\n",
    "    decay_rate=1.0000002)\n",
    "\n",
    "opt = tf.keras.optimizers.Adam(learning_rate=lr_schedule)\n",
    "opt = tf.keras.optimizers.SGD(learning_rate=0.05, momentum=0.9)\n",
    "model.compile(optimizer=opt,\n",
    "              loss='binary_crossentropy',\n",
    "              metrics=['accuracy'])"
   ]
  },
  {
   "cell_type": "code",
   "execution_count": 148,
   "id": "mediterranean-spanish",
   "metadata": {},
   "outputs": [
    {
     "name": "stdout",
     "output_type": "stream",
     "text": [
      "Train on 400000 samples, validate on 100001 samples\n",
      "Epoch 1/30\n",
      "400000/400000 [==============================] - 17s 42us/sample - loss: 0.6109 - acc: 0.6596 - val_loss: 0.5833 - val_acc: 0.6893\n",
      "Epoch 2/30\n",
      "400000/400000 [==============================] - 17s 42us/sample - loss: 0.5751 - acc: 0.6955 - val_loss: 0.5730 - val_acc: 0.7022\n",
      "Epoch 3/30\n",
      "400000/400000 [==============================] - 17s 42us/sample - loss: 0.5590 - acc: 0.7099 - val_loss: 0.5691 - val_acc: 0.6992\n",
      "Epoch 4/30\n",
      "400000/400000 [==============================] - 17s 43us/sample - loss: 0.5471 - acc: 0.7198 - val_loss: 0.5536 - val_acc: 0.7144\n",
      "Epoch 5/30\n",
      "400000/400000 [==============================] - 17s 43us/sample - loss: 0.5367 - acc: 0.7268 - val_loss: 0.5359 - val_acc: 0.7270\n",
      "Epoch 6/30\n",
      "400000/400000 [==============================] - 17s 43us/sample - loss: 0.5303 - acc: 0.7314 - val_loss: 0.5317 - val_acc: 0.7292\n",
      "Epoch 7/30\n",
      "400000/400000 [==============================] - 17s 43us/sample - loss: 0.5235 - acc: 0.7364 - val_loss: 0.5371 - val_acc: 0.7232\n",
      "Epoch 8/30\n",
      "400000/400000 [==============================] - 17s 43us/sample - loss: 0.5177 - acc: 0.7405 - val_loss: 0.5230 - val_acc: 0.7355\n",
      "Epoch 9/30\n",
      "400000/400000 [==============================] - 18s 44us/sample - loss: 0.5130 - acc: 0.7444 - val_loss: 0.5194 - val_acc: 0.7393\n",
      "Epoch 10/30\n",
      "400000/400000 [==============================] - 18s 44us/sample - loss: 0.5082 - acc: 0.7477 - val_loss: 0.5162 - val_acc: 0.7396\n",
      "Epoch 11/30\n",
      "400000/400000 [==============================] - 18s 44us/sample - loss: 0.5046 - acc: 0.7488 - val_loss: 0.5212 - val_acc: 0.7366\n",
      "Epoch 12/30\n",
      "400000/400000 [==============================] - 18s 44us/sample - loss: 0.5006 - acc: 0.7520 - val_loss: 0.5174 - val_acc: 0.7391\n",
      "Epoch 13/30\n",
      "400000/400000 [==============================] - 18s 45us/sample - loss: 0.4968 - acc: 0.7546 - val_loss: 0.5199 - val_acc: 0.7368\n",
      "Epoch 14/30\n",
      "400000/400000 [==============================] - 18s 46us/sample - loss: 0.4925 - acc: 0.7576 - val_loss: 0.5190 - val_acc: 0.7404\n",
      "Epoch 15/30\n",
      "400000/400000 [==============================] - 17s 44us/sample - loss: 0.4890 - acc: 0.7592 - val_loss: 0.5180 - val_acc: 0.7413\n",
      "Epoch 16/30\n",
      "400000/400000 [==============================] - 18s 45us/sample - loss: 0.4856 - acc: 0.7613 - val_loss: 0.5224 - val_acc: 0.7430\n",
      "Epoch 17/30\n",
      "400000/400000 [==============================] - 20s 50us/sample - loss: 0.4819 - acc: 0.7634 - val_loss: 0.5168 - val_acc: 0.7427\n",
      "Epoch 18/30\n",
      "400000/400000 [==============================] - 21s 52us/sample - loss: 0.4787 - acc: 0.7655 - val_loss: 0.5300 - val_acc: 0.7396\n",
      "Epoch 19/30\n",
      "400000/400000 [==============================] - 19s 48us/sample - loss: 0.4752 - acc: 0.7674 - val_loss: 0.5228 - val_acc: 0.7409\n",
      "Epoch 20/30\n",
      "400000/400000 [==============================] - 18s 45us/sample - loss: 0.4711 - acc: 0.7701 - val_loss: 0.5229 - val_acc: 0.7395\n",
      "Epoch 21/30\n",
      "400000/400000 [==============================] - 18s 45us/sample - loss: 0.4676 - acc: 0.7719 - val_loss: 0.5265 - val_acc: 0.7411\n",
      "Epoch 22/30\n",
      "400000/400000 [==============================] - 18s 45us/sample - loss: 0.4641 - acc: 0.7744 - val_loss: 0.5294 - val_acc: 0.7400\n",
      "Epoch 23/30\n",
      "400000/400000 [==============================] - 18s 45us/sample - loss: 0.4604 - acc: 0.7762 - val_loss: 0.5270 - val_acc: 0.7389\n",
      "Epoch 24/30\n",
      "400000/400000 [==============================] - 19s 47us/sample - loss: 0.4573 - acc: 0.7782 - val_loss: 0.5353 - val_acc: 0.7389\n",
      "Epoch 25/30\n",
      "400000/400000 [==============================] - 18s 45us/sample - loss: 0.4535 - acc: 0.7807 - val_loss: 0.5333 - val_acc: 0.7389\n",
      "Epoch 26/30\n",
      "400000/400000 [==============================] - 18s 45us/sample - loss: 0.4501 - acc: 0.7824 - val_loss: 0.5385 - val_acc: 0.7397\n",
      "Epoch 27/30\n",
      "400000/400000 [==============================] - 18s 45us/sample - loss: 0.4459 - acc: 0.7845 - val_loss: 0.5468 - val_acc: 0.7305\n",
      "Epoch 28/30\n",
      "400000/400000 [==============================] - 18s 45us/sample - loss: 0.4419 - acc: 0.7865 - val_loss: 0.5455 - val_acc: 0.7371\n",
      "Epoch 29/30\n",
      "400000/400000 [==============================] - 18s 45us/sample - loss: 0.4383 - acc: 0.7888 - val_loss: 0.5451 - val_acc: 0.7310\n",
      "Epoch 30/30\n",
      "400000/400000 [==============================] - 18s 45us/sample - loss: 0.4345 - acc: 0.7910 - val_loss: 0.5530 - val_acc: 0.7318\n"
     ]
    }
   ],
   "source": [
    "history= model.fit(X_train, y_train, epochs=30, validation_data=(X_test,y_test), batch_size=100)"
   ]
  },
  {
   "cell_type": "code",
   "execution_count": 142,
   "id": "split-clothing",
   "metadata": {},
   "outputs": [
    {
     "name": "stdout",
     "output_type": "stream",
     "text": [
      "400000/400000 [==============================] - 22s 55us/sample - loss: 0.6929 - acc: 0.5289\n",
      "100001/100001 [==============================] - 6s 59us/sample - loss: 0.6929 - acc: 0.5334\n",
      "Train: 0.529, Test: 0.533\n"
     ]
    }
   ],
   "source": [
    "# evaluate the model\n",
    "_,train_acc = model.evaluate(X_train, y_train)\n",
    "_,test_acc  = model.evaluate(X_test, y_test)\n",
    "print('Train: %.3f, Test: %.3f' % (train_acc, test_acc))\n"
   ]
  },
  {
   "cell_type": "code",
   "execution_count": 149,
   "id": "passive-emission",
   "metadata": {},
   "outputs": [
    {
     "data": {
      "image/png": "[encoded data removed]",
      "text/plain": [
       "<Figure size 1440x1080 with 2 Axes>"
      ]
     },
     "metadata": {
      "needs_background": "light"
     },
     "output_type": "display_data"
    }
   ],
   "source": [
    "# plot loss during training\n",
    "plt.figure(figsize=(20,15))\n",
    "pyplot.subplot(211)\n",
    "pyplot.title('Loss')\n",
    "pyplot.plot(history.history['loss'], label='train')\n",
    "pyplot.plot(history.history['val_loss'], label='test')\n",
    "pyplot.legend()\n",
    "# plot accuracy during training\n",
    "pyplot.subplot(212)\n",
    "pyplot.title('Accuracy')\n",
    "pyplot.plot(history.history['acc'], label='train')\n",
    "pyplot.plot(history.history['val_acc'], label='test')\n",
    "pyplot.legend()\n",
    "pyplot.show()"
   ]
  },
  {
   "cell_type": "code",
   "execution_count": 98,
   "id": "every-header",
   "metadata": {},
   "outputs": [
    {
     "data": {
      "text/plain": [
       "{'loss': [7.223296924233437,\n",
       "  7.2232969148159025,\n",
       "  7.223296908974648,\n",
       "  7.223296918749809,\n",
       "  7.223296905875206],\n",
       " 'acc': [0.5289125, 0.5289125, 0.5289125, 0.5289125, 0.5289125],\n",
       " 'val_loss': [7.114613716953346,\n",
       "  7.114613701694709,\n",
       "  7.114613705032536,\n",
       "  7.114613722198502,\n",
       "  7.114613725870111],\n",
       " 'val_acc': [0.53344464, 0.53344464, 0.53344464, 0.53344464, 0.53344464]}"
      ]
     },
     "execution_count": 98,
     "metadata": {},
     "output_type": "execute_result"
    }
   ],
   "source": [
    "history.history"
   ]
  },
  {
   "cell_type": "code",
   "execution_count": 88,
   "id": "suspended-proceeding",
   "metadata": {},
   "outputs": [
    {
     "data": {
      "text/plain": [
       "(400000,)"
      ]
     },
     "execution_count": 88,
     "metadata": {},
     "output_type": "execute_result"
    }
   ],
   "source": [
    "y_train.shape"
   ]
  },
  {
   "cell_type": "markdown",
   "id": "cheap-aircraft",
   "metadata": {},
   "source": [
    "# Recommendation & Evaluations"
   ]
  },
  {
   "cell_type": "markdown",
   "id": "attempted-delight",
   "metadata": {},
   "source": [
    "# Conclusion"
   ]
  },
  {
   "cell_type": "markdown",
   "id": "sorted-monkey",
   "metadata": {},
   "source": [
    "# References"
   ]
  },
  {
   "cell_type": "markdown",
   "id": "partial-supervisor",
   "metadata": {},
   "source": [
    "1. [HIGGS DataSet - UCI- Website](https://archive.ics.uci.edu/ml/datasets/HIGGS)\n",
    "2. P. Onyisi, Higgs boson FAQ, University of Texas ATLAS group, 2013.\n",
    "3. Baldi, P., Sadowski, P. & Whiteson, D. Searching for exotic particles in high-energy physics with deep learning. Nat Commun 5, 4308 (2014). https://doi.org/10.1038/ncomms5308\n"
   ]
  },
  {
   "cell_type": "code",
   "execution_count": null,
   "id": "biblical-visiting",
   "metadata": {},
   "outputs": [],
   "source": []
  }
 ],
 "metadata": {
  "kernelspec": {
   "display_name": "Python 3",
   "language": "python",
   "name": "python3"
  },
  "language_info": {
   "codemirror_mode": {
    "name": "ipython",
    "version": 3
   },
   "file_extension": ".py",
   "mimetype": "text/x-python",
   "name": "python",
   "nbconvert_exporter": "python",
   "pygments_lexer": "ipython3",
   "version": "3.6.12"
  },
  "toc": {
   "base_numbering": 1,
   "nav_menu": {},
   "number_sections": false,
   "sideBar": true,
   "skip_h1_title": false,
   "title_cell": "Table of Contents",
   "title_sidebar": "Contents",
   "toc_cell": true,
   "toc_position": {
    "height": "calc(100% - 180px)",
    "left": "10px",
    "top": "150px",
    "width": "288px"
   },
   "toc_section_display": true,
   "toc_window_display": false
  }
 },
 "nbformat": 4,
 "nbformat_minor": 5
}

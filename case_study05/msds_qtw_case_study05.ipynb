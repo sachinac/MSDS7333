{
 "cells": [
  {
   "cell_type": "markdown",
   "id": "downtown-birth",
   "metadata": {},
   "source": [
    "<div align=\"center\">\n",
    "    <font size=5> <b> MSDS 7333 Spring 2021: Case Study 05 </b></font>\n",
    "</div>\n",
    "<br>\n",
    "<div align=\"center\">\n",
    "    <font size=3> <b> Missing Data Analysis </b> </font>\n",
    "</div>\n",
    "\n",
    "<br>\n",
    "<div align=\"center\">\n",
    "    <font size=3> <b> Sachin Chavan,Tazeb Abera, Gautam Kapila, Sandesh Ojha </b> </font>\n",
    "</div>"
   ]
  },
  {
   "cell_type": "markdown",
   "id": "racial-consent",
   "metadata": {
    "toc": true
   },
   "source": [
    "<h1>Table of Contents<span class=\"tocSkip\"></span></h1>\n",
    "<div class=\"toc\"><ul class=\"toc-item\"><li><span><a href=\"#Introduction\" data-toc-modified-id=\"Introduction-1\">Introduction</a></span></li><li><span><a href=\"#Business-Objective\" data-toc-modified-id=\"Business-Objective-2\">Business Objective</a></span></li><li><span><a href=\"#Data-Exploration\" data-toc-modified-id=\"Data-Exploration-3\">Data Exploration</a></span></li><li><span><a href=\"#Baseline-Model-Development\" data-toc-modified-id=\"Baseline-Model-Development-4\">Baseline Model Development</a></span></li><li><span><a href=\"#Missing-Completely-at-random\" data-toc-modified-id=\"Missing-Completely-at-random-5\">Missing Completely at random</a></span></li><li><span><a href=\"#Missing-at-Random\" data-toc-modified-id=\"Missing-at-Random-6\">Missing at Random</a></span></li><li><span><a href=\"#Missing-not-at-random\" data-toc-modified-id=\"Missing-not-at-random-7\">Missing not at random</a></span></li><li><span><a href=\"#Conclusion\" data-toc-modified-id=\"Conclusion-8\">Conclusion</a></span></li><li><span><a href=\"#References\" data-toc-modified-id=\"References-9\">References</a></span></li></ul></div>"
   ]
  },
  {
   "cell_type": "markdown",
   "id": "governing-beach",
   "metadata": {},
   "source": [
    "# Introduction "
   ]
  },
  {
   "cell_type": "markdown",
   "id": "involved-bruce",
   "metadata": {},
   "source": [
    "# Business Objective "
   ]
  },
  {
   "cell_type": "markdown",
   "id": "dried-sculpture",
   "metadata": {},
   "source": [
    "# Data Exploration "
   ]
  },
  {
   "cell_type": "markdown",
   "id": "sonic-livestock",
   "metadata": {},
   "source": [
    "# Baseline Model Development"
   ]
  },
  {
   "cell_type": "markdown",
   "id": "incorporate-medium",
   "metadata": {},
   "source": [
    "# Missing Completely at random "
   ]
  },
  {
   "cell_type": "markdown",
   "id": "centered-kingston",
   "metadata": {},
   "source": [
    "# Missing at Random"
   ]
  },
  {
   "cell_type": "markdown",
   "id": "middle-distinction",
   "metadata": {},
   "source": [
    "# Missing not at random"
   ]
  },
  {
   "cell_type": "markdown",
   "id": "simplified-nitrogen",
   "metadata": {},
   "source": [
    "# Conclusion "
   ]
  },
  {
   "cell_type": "markdown",
   "id": "unable-recruitment",
   "metadata": {},
   "source": [
    "# References"
   ]
  },
  {
   "cell_type": "code",
   "execution_count": null,
   "id": "placed-moldova",
   "metadata": {},
   "outputs": [],
   "source": []
  }
 ],
 "metadata": {
  "kernelspec": {
   "display_name": "Python 3",
   "language": "python",
   "name": "python3"
  },
  "language_info": {
   "codemirror_mode": {
    "name": "ipython",
    "version": 3
   },
   "file_extension": ".py",
   "mimetype": "text/x-python",
   "name": "python",
   "nbconvert_exporter": "python",
   "pygments_lexer": "ipython3",
   "version": "3.6.12"
  },
  "toc": {
   "base_numbering": 1,
   "nav_menu": {},
   "number_sections": false,
   "sideBar": true,
   "skip_h1_title": false,
   "title_cell": "Table of Contents",
   "title_sidebar": "Contents",
   "toc_cell": true,
   "toc_position": {},
   "toc_section_display": true,
   "toc_window_display": true
  }
 },
 "nbformat": 4,
 "nbformat_minor": 5
}

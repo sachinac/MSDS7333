{
 "cells": [
  {
   "cell_type": "markdown",
   "id": "hungry-tomorrow",
   "metadata": {},
   "source": [
    "<div align=\"center\">\n",
    "    <font size=5> <b> MSDS 7333 Spring 2021: Case Study 05 </b></font>\n",
    "</div>\n",
    "<br>\n",
    "<div align=\"center\">\n",
    "    <font size=3> <b> Missing Data Analysis </b> </font>\n",
    "</div>\n",
    "\n",
    "<br>\n",
    "<div align=\"center\">\n",
    "    <font size=3> <b> Sachin Chavan,Tazeb Abera, Gautam Kapila, Sandesh Ojha </b> </font>\n",
    "</div>"
   ]
  },
  {
   "cell_type": "markdown",
   "id": "nasty-indiana",
   "metadata": {
    "toc": true
   },
   "source": [
    "<h1>Table of Contents<span class=\"tocSkip\"></span></h1>\n",
    "<div class=\"toc\"><ul class=\"toc-item\"><li><span><a href=\"#Import-modules\" data-toc-modified-id=\"Import-modules-1\">Import modules</a></span></li><li><span><a href=\"#Introduction\" data-toc-modified-id=\"Introduction-2\">Introduction</a></span></li><li><span><a href=\"#Business-Objective\" data-toc-modified-id=\"Business-Objective-3\">Business Objective</a></span></li><li><span><a href=\"#Data-Exploration\" data-toc-modified-id=\"Data-Exploration-4\">Data Exploration</a></span><ul class=\"toc-item\"><li><span><a href=\"#Fetch-California-housing-data\" data-toc-modified-id=\"Fetch-California-housing-data-4.1\">Fetch California housing data</a></span></li><li><span><a href=\"#Data-fields\" data-toc-modified-id=\"Data-fields-4.2\">Data fields</a></span></li><li><span><a href=\"#Structure-of-data\" data-toc-modified-id=\"Structure-of-data-4.3\">Structure of data</a></span></li><li><span><a href=\"#Data-Summary\" data-toc-modified-id=\"Data-Summary-4.4\">Data Summary</a></span></li><li><span><a href=\"#Missing-values\" data-toc-modified-id=\"Missing-values-4.5\">Missing values</a></span></li><li><span><a href=\"#Heatmap\" data-toc-modified-id=\"Heatmap-4.6\">Heatmap</a></span></li><li><span><a href=\"#Final-DataFrame\" data-toc-modified-id=\"Final-DataFrame-4.7\">Final DataFrame</a></span></li><li><span><a href=\"#Relationship-with-target\" data-toc-modified-id=\"Relationship-with-target-4.8\">Relationship with target</a></span></li></ul></li><li><span><a href=\"#Baseline-Model\" data-toc-modified-id=\"Baseline-Model-5\">Baseline Model</a></span><ul class=\"toc-item\"><li><span><a href=\"#Train-Test-Split\" data-toc-modified-id=\"Train-Test-Split-5.1\">Train Test Split</a></span></li><li><span><a href=\"#Lasso-Model\" data-toc-modified-id=\"Lasso-Model-5.2\">Lasso Model</a></span></li><li><span><a href=\"#Residual-plot\" data-toc-modified-id=\"Residual-plot-5.3\">Residual plot</a></span></li><li><span><a href=\"#Prediction\" data-toc-modified-id=\"Prediction-5.4\">Prediction</a></span></li><li><span><a href=\"#No-autocorrelation-on-residuals\" data-toc-modified-id=\"No-autocorrelation-on-residuals-5.5\">No autocorrelation on residuals</a></span></li><li><span><a href=\"#Learning-Curve\" data-toc-modified-id=\"Learning-Curve-5.6\">Learning Curve</a></span></li></ul></li><li><span><a href=\"#Missing-Completely-at-random\" data-toc-modified-id=\"Missing-Completely-at-random-6\">Missing Completely at random</a></span><ul class=\"toc-item\"><li><span><a href=\"#HouseAge---Missing-values\" data-toc-modified-id=\"HouseAge---Missing-values-6.1\">HouseAge - Missing values</a></span></li><li><span><a href=\"#HouseAge-Imputation\" data-toc-modified-id=\"HouseAge-Imputation-6.2\">HouseAge Imputation</a></span></li><li><span><a href=\"#Plot-imputed-values\" data-toc-modified-id=\"Plot-imputed-values-6.3\">Plot imputed values</a></span></li><li><span><a href=\"#Modeling-with-Imputed-Values\" data-toc-modified-id=\"Modeling-with-Imputed-Values-6.4\">Modeling with Imputed Values</a></span></li></ul></li><li><span><a href=\"#Missing-at-Random\" data-toc-modified-id=\"Missing-at-Random-7\">Missing at Random</a></span><ul class=\"toc-item\"><li><span><a href=\"#HouseAge---Missing-values\" data-toc-modified-id=\"HouseAge---Missing-values-7.1\">HouseAge - Missing values</a></span></li><li><span><a href=\"#HouseAge-Imputation\" data-toc-modified-id=\"HouseAge-Imputation-7.2\">HouseAge Imputation</a></span></li><li><span><a href=\"#Plot-imputed-values\" data-toc-modified-id=\"Plot-imputed-values-7.3\">Plot imputed values</a></span></li><li><span><a href=\"#Modeling-with-Imputed-Values\" data-toc-modified-id=\"Modeling-with-Imputed-Values-7.4\">Modeling with Imputed Values</a></span></li></ul></li><li><span><a href=\"#Missing-not-at-random\" data-toc-modified-id=\"Missing-not-at-random-8\">Missing not at random</a></span><ul class=\"toc-item\"><li><span><a href=\"#HouseAge---Missing-values\" data-toc-modified-id=\"HouseAge---Missing-values-8.1\">HouseAge - Missing values</a></span></li><li><span><a href=\"#HouseAge-Imputation\" data-toc-modified-id=\"HouseAge-Imputation-8.2\">HouseAge Imputation</a></span></li><li><span><a href=\"#Plot-imputed-values\" data-toc-modified-id=\"Plot-imputed-values-8.3\">Plot imputed values</a></span></li><li><span><a href=\"#Modeling-with-Imputed-Values\" data-toc-modified-id=\"Modeling-with-Imputed-Values-8.4\">Modeling with Imputed Values</a></span></li></ul></li><li><span><a href=\"#Result-Summary\" data-toc-modified-id=\"Result-Summary-9\">Result Summary</a></span></li><li><span><a href=\"#Conclusion\" data-toc-modified-id=\"Conclusion-10\">Conclusion</a></span></li><li><span><a href=\"#References\" data-toc-modified-id=\"References-11\">References</a></span></li></ul></div>"
   ]
  },
  {
   "cell_type": "markdown",
   "id": "exterior-customs",
   "metadata": {},
   "source": [
    "# Import modules"
   ]
  },
  {
   "cell_type": "code",
   "execution_count": 1,
   "id": "superb-synthetic",
   "metadata": {},
   "outputs": [],
   "source": [
    "import sklearn.datasets as ds\n",
    "import warnings\n",
    "import pandas as pd\n",
    "from sklearn.model_selection import train_test_split\n",
    "import missingno as msno \n",
    "import seaborn as sns\n",
    "import matplotlib.pyplot as plt\n",
    "from sklearn import linear_model\n",
    "from sklearn.metrics import mean_squared_error, r2_score, mean_absolute_error\n",
    "from ml_metrics import rmse\n",
    "from sklearn.preprocessing import StandardScaler\n",
    "from sklearn.model_selection import learning_curve\n",
    "from sklearn.model_selection import ShuffleSplit\n",
    "from sklearn.impute import SimpleImputer\n",
    "warnings.filterwarnings('ignore')\n",
    "#sns.set(context=\"notebook\", palette=\"Spectral\", style = 'darkgrid' ,font_scale = 1.5, color_codes=True)"
   ]
  },
  {
   "cell_type": "markdown",
   "id": "frank-expression",
   "metadata": {},
   "source": [
    "# Introduction \n",
    "\n",
    "The real-world data often has a lot of missing values.Missing data can range from variables without observations to specific data questions without any known answers. Causes include human error in data collection, system malfunctions, corruption of data, or a number of other unintended origins.\n",
    "\n",
    "It is good practice to identify and replace missing values for each column in the input data prior to modeling in prediction task. This is called missing data imputation, or imputing for short. A popular approach for data imputation is to calculate a statistical value for each column (such as a mean) and replace all missing values for that column with the statistic. It is a popular approach because the statistic is easy to calculate using the training dataset and because it often results in good performance.\n"
   ]
  },
  {
   "cell_type": "markdown",
   "id": "eastern-arthur",
   "metadata": {},
   "source": [
    "# Business Objective "
   ]
  },
  {
   "cell_type": "markdown",
   "id": "encouraging-organization",
   "metadata": {},
   "source": [
    "# Data Exploration \n",
    "\n",
    "The California Housing data set is provided as part of the SKLearn package in the [SKLearn website](https://scikit-learn.org/stable/modules/generated/sklearn.datasets.fetch_california_housing.html).\n",
    "\n",
    "## Fetch California housing data"
   ]
  },
  {
   "cell_type": "code",
   "execution_count": 2,
   "id": "occasional-immunology",
   "metadata": {},
   "outputs": [],
   "source": [
    "housing_df = ds.fetch_california_housing(as_frame=True).data\n",
    "target_df  = ds.fetch_california_housing(as_frame=True).target"
   ]
  },
  {
   "cell_type": "code",
   "execution_count": 3,
   "id": "american-profit",
   "metadata": {},
   "outputs": [
    {
     "data": {
      "text/html": [
       "<div>\n",
       "<style scoped>\n",
       "    .dataframe tbody tr th:only-of-type {\n",
       "        vertical-align: middle;\n",
       "    }\n",
       "\n",
       "    .dataframe tbody tr th {\n",
       "        vertical-align: top;\n",
       "    }\n",
       "\n",
       "    .dataframe thead th {\n",
       "        text-align: right;\n",
       "    }\n",
       "</style>\n",
       "<table border=\"1\" class=\"dataframe\">\n",
       "  <thead>\n",
       "    <tr style=\"text-align: right;\">\n",
       "      <th></th>\n",
       "      <th>MedInc</th>\n",
       "      <th>HouseAge</th>\n",
       "      <th>AveRooms</th>\n",
       "      <th>AveBedrms</th>\n",
       "      <th>Population</th>\n",
       "      <th>AveOccup</th>\n",
       "      <th>Latitude</th>\n",
       "      <th>Longitude</th>\n",
       "    </tr>\n",
       "  </thead>\n",
       "  <tbody>\n",
       "    <tr>\n",
       "      <th>0</th>\n",
       "      <td>8.3252</td>\n",
       "      <td>41.0</td>\n",
       "      <td>6.984127</td>\n",
       "      <td>1.023810</td>\n",
       "      <td>322.0</td>\n",
       "      <td>2.555556</td>\n",
       "      <td>37.88</td>\n",
       "      <td>-122.23</td>\n",
       "    </tr>\n",
       "    <tr>\n",
       "      <th>1</th>\n",
       "      <td>8.3014</td>\n",
       "      <td>21.0</td>\n",
       "      <td>6.238137</td>\n",
       "      <td>0.971880</td>\n",
       "      <td>2401.0</td>\n",
       "      <td>2.109842</td>\n",
       "      <td>37.86</td>\n",
       "      <td>-122.22</td>\n",
       "    </tr>\n",
       "    <tr>\n",
       "      <th>2</th>\n",
       "      <td>7.2574</td>\n",
       "      <td>52.0</td>\n",
       "      <td>8.288136</td>\n",
       "      <td>1.073446</td>\n",
       "      <td>496.0</td>\n",
       "      <td>2.802260</td>\n",
       "      <td>37.85</td>\n",
       "      <td>-122.24</td>\n",
       "    </tr>\n",
       "    <tr>\n",
       "      <th>3</th>\n",
       "      <td>5.6431</td>\n",
       "      <td>52.0</td>\n",
       "      <td>5.817352</td>\n",
       "      <td>1.073059</td>\n",
       "      <td>558.0</td>\n",
       "      <td>2.547945</td>\n",
       "      <td>37.85</td>\n",
       "      <td>-122.25</td>\n",
       "    </tr>\n",
       "    <tr>\n",
       "      <th>4</th>\n",
       "      <td>3.8462</td>\n",
       "      <td>52.0</td>\n",
       "      <td>6.281853</td>\n",
       "      <td>1.081081</td>\n",
       "      <td>565.0</td>\n",
       "      <td>2.181467</td>\n",
       "      <td>37.85</td>\n",
       "      <td>-122.25</td>\n",
       "    </tr>\n",
       "    <tr>\n",
       "      <th>...</th>\n",
       "      <td>...</td>\n",
       "      <td>...</td>\n",
       "      <td>...</td>\n",
       "      <td>...</td>\n",
       "      <td>...</td>\n",
       "      <td>...</td>\n",
       "      <td>...</td>\n",
       "      <td>...</td>\n",
       "    </tr>\n",
       "    <tr>\n",
       "      <th>20635</th>\n",
       "      <td>1.5603</td>\n",
       "      <td>25.0</td>\n",
       "      <td>5.045455</td>\n",
       "      <td>1.133333</td>\n",
       "      <td>845.0</td>\n",
       "      <td>2.560606</td>\n",
       "      <td>39.48</td>\n",
       "      <td>-121.09</td>\n",
       "    </tr>\n",
       "    <tr>\n",
       "      <th>20636</th>\n",
       "      <td>2.5568</td>\n",
       "      <td>18.0</td>\n",
       "      <td>6.114035</td>\n",
       "      <td>1.315789</td>\n",
       "      <td>356.0</td>\n",
       "      <td>3.122807</td>\n",
       "      <td>39.49</td>\n",
       "      <td>-121.21</td>\n",
       "    </tr>\n",
       "    <tr>\n",
       "      <th>20637</th>\n",
       "      <td>1.7000</td>\n",
       "      <td>17.0</td>\n",
       "      <td>5.205543</td>\n",
       "      <td>1.120092</td>\n",
       "      <td>1007.0</td>\n",
       "      <td>2.325635</td>\n",
       "      <td>39.43</td>\n",
       "      <td>-121.22</td>\n",
       "    </tr>\n",
       "    <tr>\n",
       "      <th>20638</th>\n",
       "      <td>1.8672</td>\n",
       "      <td>18.0</td>\n",
       "      <td>5.329513</td>\n",
       "      <td>1.171920</td>\n",
       "      <td>741.0</td>\n",
       "      <td>2.123209</td>\n",
       "      <td>39.43</td>\n",
       "      <td>-121.32</td>\n",
       "    </tr>\n",
       "    <tr>\n",
       "      <th>20639</th>\n",
       "      <td>2.3886</td>\n",
       "      <td>16.0</td>\n",
       "      <td>5.254717</td>\n",
       "      <td>1.162264</td>\n",
       "      <td>1387.0</td>\n",
       "      <td>2.616981</td>\n",
       "      <td>39.37</td>\n",
       "      <td>-121.24</td>\n",
       "    </tr>\n",
       "  </tbody>\n",
       "</table>\n",
       "<p>20640 rows × 8 columns</p>\n",
       "</div>"
      ],
      "text/plain": [
       "       MedInc  HouseAge  AveRooms  AveBedrms  Population  AveOccup  Latitude  \\\n",
       "0      8.3252      41.0  6.984127   1.023810       322.0  2.555556     37.88   \n",
       "1      8.3014      21.0  6.238137   0.971880      2401.0  2.109842     37.86   \n",
       "2      7.2574      52.0  8.288136   1.073446       496.0  2.802260     37.85   \n",
       "3      5.6431      52.0  5.817352   1.073059       558.0  2.547945     37.85   \n",
       "4      3.8462      52.0  6.281853   1.081081       565.0  2.181467     37.85   \n",
       "...       ...       ...       ...        ...         ...       ...       ...   \n",
       "20635  1.5603      25.0  5.045455   1.133333       845.0  2.560606     39.48   \n",
       "20636  2.5568      18.0  6.114035   1.315789       356.0  3.122807     39.49   \n",
       "20637  1.7000      17.0  5.205543   1.120092      1007.0  2.325635     39.43   \n",
       "20638  1.8672      18.0  5.329513   1.171920       741.0  2.123209     39.43   \n",
       "20639  2.3886      16.0  5.254717   1.162264      1387.0  2.616981     39.37   \n",
       "\n",
       "       Longitude  \n",
       "0        -122.23  \n",
       "1        -122.22  \n",
       "2        -122.24  \n",
       "3        -122.25  \n",
       "4        -122.25  \n",
       "...          ...  \n",
       "20635    -121.09  \n",
       "20636    -121.21  \n",
       "20637    -121.22  \n",
       "20638    -121.32  \n",
       "20639    -121.24  \n",
       "\n",
       "[20640 rows x 8 columns]"
      ]
     },
     "execution_count": 3,
     "metadata": {},
     "output_type": "execute_result"
    }
   ],
   "source": [
    "housing_df"
   ]
  },
  {
   "cell_type": "markdown",
   "id": "preceding-riding",
   "metadata": {},
   "source": [
    "## Data fields"
   ]
  },
  {
   "cell_type": "markdown",
   "id": "median-subscription",
   "metadata": {},
   "source": [
    "\n",
    "- MedInc - Median Income in block\n",
    "- HouseAge - Median house age in block\n",
    "- AveRooms - Average number of rooms\n",
    "- AveBedrms - Average number of bedrooms\n",
    "- Population - Block population\n",
    "- AveOccup - Average house occupancy\n",
    "- Latitude - House Block Latitude\n",
    "- Longitude - House Block Longitude\n"
   ]
  },
  {
   "cell_type": "markdown",
   "id": "statutory-condition",
   "metadata": {},
   "source": [
    "## Structure of data"
   ]
  },
  {
   "cell_type": "code",
   "execution_count": 4,
   "id": "general-advantage",
   "metadata": {},
   "outputs": [
    {
     "name": "stdout",
     "output_type": "stream",
     "text": [
      "<class 'pandas.core.frame.DataFrame'>\n",
      "RangeIndex: 20640 entries, 0 to 20639\n",
      "Data columns (total 8 columns):\n",
      " #   Column      Non-Null Count  Dtype  \n",
      "---  ------      --------------  -----  \n",
      " 0   MedInc      20640 non-null  float64\n",
      " 1   HouseAge    20640 non-null  float64\n",
      " 2   AveRooms    20640 non-null  float64\n",
      " 3   AveBedrms   20640 non-null  float64\n",
      " 4   Population  20640 non-null  float64\n",
      " 5   AveOccup    20640 non-null  float64\n",
      " 6   Latitude    20640 non-null  float64\n",
      " 7   Longitude   20640 non-null  float64\n",
      "dtypes: float64(8)\n",
      "memory usage: 1.3 MB\n"
     ]
    }
   ],
   "source": [
    "housing_df.info()"
   ]
  },
  {
   "cell_type": "markdown",
   "id": "rocky-consent",
   "metadata": {},
   "source": [
    "## Data Summary"
   ]
  },
  {
   "cell_type": "code",
   "execution_count": 5,
   "id": "together-hundred",
   "metadata": {},
   "outputs": [
    {
     "data": {
      "text/html": [
       "<div>\n",
       "<style scoped>\n",
       "    .dataframe tbody tr th:only-of-type {\n",
       "        vertical-align: middle;\n",
       "    }\n",
       "\n",
       "    .dataframe tbody tr th {\n",
       "        vertical-align: top;\n",
       "    }\n",
       "\n",
       "    .dataframe thead th {\n",
       "        text-align: right;\n",
       "    }\n",
       "</style>\n",
       "<table border=\"1\" class=\"dataframe\">\n",
       "  <thead>\n",
       "    <tr style=\"text-align: right;\">\n",
       "      <th></th>\n",
       "      <th>MedInc</th>\n",
       "      <th>HouseAge</th>\n",
       "      <th>AveRooms</th>\n",
       "      <th>AveBedrms</th>\n",
       "      <th>Population</th>\n",
       "      <th>AveOccup</th>\n",
       "      <th>Latitude</th>\n",
       "      <th>Longitude</th>\n",
       "    </tr>\n",
       "  </thead>\n",
       "  <tbody>\n",
       "    <tr>\n",
       "      <th>count</th>\n",
       "      <td>20640.000000</td>\n",
       "      <td>20640.000000</td>\n",
       "      <td>20640.000000</td>\n",
       "      <td>20640.000000</td>\n",
       "      <td>20640.000000</td>\n",
       "      <td>20640.000000</td>\n",
       "      <td>20640.000000</td>\n",
       "      <td>20640.000000</td>\n",
       "    </tr>\n",
       "    <tr>\n",
       "      <th>mean</th>\n",
       "      <td>3.870671</td>\n",
       "      <td>28.639486</td>\n",
       "      <td>5.429000</td>\n",
       "      <td>1.096675</td>\n",
       "      <td>1425.476744</td>\n",
       "      <td>3.070655</td>\n",
       "      <td>35.631861</td>\n",
       "      <td>-119.569704</td>\n",
       "    </tr>\n",
       "    <tr>\n",
       "      <th>std</th>\n",
       "      <td>1.899822</td>\n",
       "      <td>12.585558</td>\n",
       "      <td>2.474173</td>\n",
       "      <td>0.473911</td>\n",
       "      <td>1132.462122</td>\n",
       "      <td>10.386050</td>\n",
       "      <td>2.135952</td>\n",
       "      <td>2.003532</td>\n",
       "    </tr>\n",
       "    <tr>\n",
       "      <th>min</th>\n",
       "      <td>0.499900</td>\n",
       "      <td>1.000000</td>\n",
       "      <td>0.846154</td>\n",
       "      <td>0.333333</td>\n",
       "      <td>3.000000</td>\n",
       "      <td>0.692308</td>\n",
       "      <td>32.540000</td>\n",
       "      <td>-124.350000</td>\n",
       "    </tr>\n",
       "    <tr>\n",
       "      <th>25%</th>\n",
       "      <td>2.563400</td>\n",
       "      <td>18.000000</td>\n",
       "      <td>4.440716</td>\n",
       "      <td>1.006079</td>\n",
       "      <td>787.000000</td>\n",
       "      <td>2.429741</td>\n",
       "      <td>33.930000</td>\n",
       "      <td>-121.800000</td>\n",
       "    </tr>\n",
       "    <tr>\n",
       "      <th>50%</th>\n",
       "      <td>3.534800</td>\n",
       "      <td>29.000000</td>\n",
       "      <td>5.229129</td>\n",
       "      <td>1.048780</td>\n",
       "      <td>1166.000000</td>\n",
       "      <td>2.818116</td>\n",
       "      <td>34.260000</td>\n",
       "      <td>-118.490000</td>\n",
       "    </tr>\n",
       "    <tr>\n",
       "      <th>75%</th>\n",
       "      <td>4.743250</td>\n",
       "      <td>37.000000</td>\n",
       "      <td>6.052381</td>\n",
       "      <td>1.099526</td>\n",
       "      <td>1725.000000</td>\n",
       "      <td>3.282261</td>\n",
       "      <td>37.710000</td>\n",
       "      <td>-118.010000</td>\n",
       "    </tr>\n",
       "    <tr>\n",
       "      <th>max</th>\n",
       "      <td>15.000100</td>\n",
       "      <td>52.000000</td>\n",
       "      <td>141.909091</td>\n",
       "      <td>34.066667</td>\n",
       "      <td>35682.000000</td>\n",
       "      <td>1243.333333</td>\n",
       "      <td>41.950000</td>\n",
       "      <td>-114.310000</td>\n",
       "    </tr>\n",
       "  </tbody>\n",
       "</table>\n",
       "</div>"
      ],
      "text/plain": [
       "             MedInc      HouseAge      AveRooms     AveBedrms    Population  \\\n",
       "count  20640.000000  20640.000000  20640.000000  20640.000000  20640.000000   \n",
       "mean       3.870671     28.639486      5.429000      1.096675   1425.476744   \n",
       "std        1.899822     12.585558      2.474173      0.473911   1132.462122   \n",
       "min        0.499900      1.000000      0.846154      0.333333      3.000000   \n",
       "25%        2.563400     18.000000      4.440716      1.006079    787.000000   \n",
       "50%        3.534800     29.000000      5.229129      1.048780   1166.000000   \n",
       "75%        4.743250     37.000000      6.052381      1.099526   1725.000000   \n",
       "max       15.000100     52.000000    141.909091     34.066667  35682.000000   \n",
       "\n",
       "           AveOccup      Latitude     Longitude  \n",
       "count  20640.000000  20640.000000  20640.000000  \n",
       "mean       3.070655     35.631861   -119.569704  \n",
       "std       10.386050      2.135952      2.003532  \n",
       "min        0.692308     32.540000   -124.350000  \n",
       "25%        2.429741     33.930000   -121.800000  \n",
       "50%        2.818116     34.260000   -118.490000  \n",
       "75%        3.282261     37.710000   -118.010000  \n",
       "max     1243.333333     41.950000   -114.310000  "
      ]
     },
     "execution_count": 5,
     "metadata": {},
     "output_type": "execute_result"
    }
   ],
   "source": [
    "housing_df.describe()"
   ]
  },
  {
   "cell_type": "markdown",
   "id": "antique-effectiveness",
   "metadata": {},
   "source": [
    "## Missing values"
   ]
  },
  {
   "cell_type": "code",
   "execution_count": 6,
   "id": "enhanced-candidate",
   "metadata": {},
   "outputs": [
    {
     "data": {
      "text/plain": [
       "<matplotlib.axes._subplots.AxesSubplot at 0x7ff4813d7710>"
      ]
     },
     "execution_count": 6,
     "metadata": {},
     "output_type": "execute_result"
    },
    {
     "data": {
      "image/png": "[encoded data removed]",
      "text/plain": [
       "<Figure size 720x288 with 3 Axes>"
      ]
     },
     "metadata": {
      "needs_background": "light"
     },
     "output_type": "display_data"
    }
   ],
   "source": [
    "msno.bar(housing_df,figsize=(10, 4)) "
   ]
  },
  {
   "cell_type": "markdown",
   "id": "bridal-constraint",
   "metadata": {},
   "source": [
    "Original dataset has no missing values"
   ]
  },
  {
   "cell_type": "markdown",
   "id": "beneficial-extraction",
   "metadata": {},
   "source": [
    "## Heatmap\n",
    "\n",
    "Longitude and lattitude are corrleated so logitude has been removed from the features. Here is heatmap after excluding longitude."
   ]
  },
  {
   "cell_type": "code",
   "execution_count": 7,
   "id": "surprising-depression",
   "metadata": {},
   "outputs": [
    {
     "data": {
      "text/plain": [
       "<matplotlib.axes._subplots.AxesSubplot at 0x7ff483578a58>"
      ]
     },
     "execution_count": 7,
     "metadata": {},
     "output_type": "execute_result"
    },
    {
     "data": {
      "image/png": "[encoded data removed]",
      "text/plain": [
       "<Figure size 1152x360 with 2 Axes>"
      ]
     },
     "metadata": {
      "needs_background": "light"
     },
     "output_type": "display_data"
    }
   ],
   "source": [
    "features =  ['MedInc','HouseAge','AveRooms','Population','AveOccup', 'Latitude']\n",
    "plt.figure(figsize = (16,5))\n",
    "sns.heatmap(housing_df.corr(), annot=True, linewidths=.5)"
   ]
  },
  {
   "cell_type": "code",
   "execution_count": 8,
   "id": "inside-registration",
   "metadata": {},
   "outputs": [
    {
     "data": {
      "text/plain": [
       "<matplotlib.axes._subplots.AxesSubplot at 0x7ff4836208d0>"
      ]
     },
     "execution_count": 8,
     "metadata": {},
     "output_type": "execute_result"
    },
    {
     "data": {
      "image/png": "[encoded data removed]",
      "text/plain": [
       "<Figure size 1152x360 with 2 Axes>"
      ]
     },
     "metadata": {
      "needs_background": "light"
     },
     "output_type": "display_data"
    }
   ],
   "source": [
    "plt.figure(figsize = (16,5))\n",
    "sns.heatmap(housing_df[features].corr(), annot=True, linewidths=.5)"
   ]
  },
  {
   "cell_type": "markdown",
   "id": "meaning-atlantic",
   "metadata": {},
   "source": [
    "## Final DataFrame"
   ]
  },
  {
   "cell_type": "code",
   "execution_count": 9,
   "id": "breeding-picture",
   "metadata": {},
   "outputs": [
    {
     "name": "stdout",
     "output_type": "stream",
     "text": [
      "<class 'pandas.core.frame.DataFrame'>\n",
      "RangeIndex: 20640 entries, 0 to 20639\n",
      "Data columns (total 6 columns):\n",
      " #   Column      Non-Null Count  Dtype  \n",
      "---  ------      --------------  -----  \n",
      " 0   MedInc      20640 non-null  float64\n",
      " 1   HouseAge    20640 non-null  float64\n",
      " 2   AveRooms    20640 non-null  float64\n",
      " 3   Population  20640 non-null  float64\n",
      " 4   AveOccup    20640 non-null  float64\n",
      " 5   Latitude    20640 non-null  float64\n",
      "dtypes: float64(6)\n",
      "memory usage: 967.6 KB\n"
     ]
    }
   ],
   "source": [
    "df = housing_df[features].copy()\n",
    "df.info()"
   ]
  },
  {
   "cell_type": "markdown",
   "id": "strange-merit",
   "metadata": {},
   "source": [
    "## Relationship with target\n",
    "\n",
    "Important variables with linear relationship with target are\n",
    "\n",
    "* Median Income\n",
    "* Average number of rooms\n",
    "* Average number of bedrooms\n",
    "* Population"
   ]
  },
  {
   "cell_type": "code",
   "execution_count": 10,
   "id": "developed-explosion",
   "metadata": {},
   "outputs": [
    {
     "data": {
      "image/png": "[encoded data removed]",
      "text/plain": [
       "<Figure size 1440x504 with 6 Axes>"
      ]
     },
     "metadata": {
      "needs_background": "light"
     },
     "output_type": "display_data"
    }
   ],
   "source": [
    "plt.figure(figsize=(20,7))\n",
    "import numpy as np\n",
    "for i in range(len(list(df.columns))):\n",
    "    plt.subplot(2, 4, i+1) \n",
    "    sns.regplot(x=np.array(df.iloc[:,i]),y=np.array(target_df),\n",
    "                line_kws={\"color\":\"r\",\"alpha\":0.8,\"lw\":2})\n",
    "    plt.xlabel(list(df.columns)[i])\n",
    "    plt.ylabel('House Price')\n",
    "plt.show()"
   ]
  },
  {
   "cell_type": "markdown",
   "id": "current-correspondence",
   "metadata": {},
   "source": [
    "# Baseline Model"
   ]
  },
  {
   "cell_type": "markdown",
   "id": "amazing-newsletter",
   "metadata": {},
   "source": [
    "## Train Test Split\n",
    "\n",
    "Split the data into 80/20 train/test set respectively."
   ]
  },
  {
   "cell_type": "code",
   "execution_count": 11,
   "id": "unnecessary-divorce",
   "metadata": {},
   "outputs": [],
   "source": [
    "X_train, X_test, y_train, y_test = train_test_split( housing_df[features], target_df, test_size=0.3, random_state=100)\n",
    "ss = StandardScaler().fit(X_train)\n",
    "X_train_scaled = ss.transform(X_train)\n",
    "X_test_scaled  = ss.transform(X_test)"
   ]
  },
  {
   "cell_type": "markdown",
   "id": "animal-huntington",
   "metadata": {},
   "source": [
    "## Lasso Model\n",
    "\n",
    "**Select $\\alpha$ for LASSO model**\n",
    "\n",
    "from the below plot we see $\\alpha = 0.002$ \n"
   ]
  },
  {
   "cell_type": "code",
   "execution_count": 12,
   "id": "classical-production",
   "metadata": {},
   "outputs": [
    {
     "data": {
      "image/png": "[encoded data removed]",
      "text/plain": [
       "<Figure size 576x396 with 1 Axes>"
      ]
     },
     "metadata": {},
     "output_type": "display_data"
    },
    {
     "data": {
      "text/plain": [
       "<matplotlib.axes._subplots.AxesSubplot at 0x7ff484478940>"
      ]
     },
     "execution_count": 12,
     "metadata": {},
     "output_type": "execute_result"
    }
   ],
   "source": [
    "import numpy as np\n",
    "from sklearn.linear_model import LassoCV\n",
    "from yellowbrick.regressor import AlphaSelection\n",
    "\n",
    "# Create a list of alphas to cross-validate against\n",
    "alphas = np.logspace(-10, 1, 400)\n",
    "\n",
    "# Instantiate the linear model and visualizer\n",
    "model = LassoCV(alphas=alphas)\n",
    "visualizer = AlphaSelection(model)\n",
    "visualizer.fit(X_train_scaled, y_train)\n",
    "visualizer.show()"
   ]
  },
  {
   "cell_type": "code",
   "execution_count": 13,
   "id": "wicked-novel",
   "metadata": {},
   "outputs": [
    {
     "data": {
      "text/plain": [
       "Lasso(alpha=0.009)"
      ]
     },
     "execution_count": 13,
     "metadata": {},
     "output_type": "execute_result"
    }
   ],
   "source": [
    "base_model = linear_model.Lasso(alpha=0.009)\n",
    "base_model.fit(X_train_scaled, y_train)"
   ]
  },
  {
   "cell_type": "markdown",
   "id": "simplified-infrastructure",
   "metadata": {},
   "source": [
    "## Residual plot"
   ]
  },
  {
   "cell_type": "code",
   "execution_count": 14,
   "id": "authentic-nylon",
   "metadata": {},
   "outputs": [
    {
     "data": {
      "image/png": "[encoded data removed]",
      "text/plain": [
       "<Figure size 576x396 with 2 Axes>"
      ]
     },
     "metadata": {},
     "output_type": "display_data"
    },
    {
     "data": {
      "text/plain": [
       "<matplotlib.axes._subplots.AxesSubplot at 0x7ff483583fd0>"
      ]
     },
     "execution_count": 14,
     "metadata": {},
     "output_type": "execute_result"
    }
   ],
   "source": [
    "from sklearn.linear_model import LinearRegression\n",
    "from yellowbrick.regressor import ResidualsPlot\n",
    "\n",
    "# Instantiate and fit the visualizer\n",
    "model = linear_model.Lasso(alpha=0.009)\n",
    "visualizer_residuals = ResidualsPlot(model)\n",
    "visualizer_residuals.fit(X_train_scaled, y_train)\n",
    "visualizer_residuals.show()"
   ]
  },
  {
   "cell_type": "markdown",
   "id": "logical-stocks",
   "metadata": {},
   "source": [
    "## Prediction"
   ]
  },
  {
   "cell_type": "code",
   "execution_count": 17,
   "id": "turkish-break",
   "metadata": {},
   "outputs": [
    {
     "data": {
      "text/html": [
       "<div>\n",
       "<style scoped>\n",
       "    .dataframe tbody tr th:only-of-type {\n",
       "        vertical-align: middle;\n",
       "    }\n",
       "\n",
       "    .dataframe tbody tr th {\n",
       "        vertical-align: top;\n",
       "    }\n",
       "\n",
       "    .dataframe thead th {\n",
       "        text-align: right;\n",
       "    }\n",
       "</style>\n",
       "<table border=\"1\" class=\"dataframe\">\n",
       "  <thead>\n",
       "    <tr style=\"text-align: right;\">\n",
       "      <th></th>\n",
       "      <th>Variable</th>\n",
       "      <th>MAE</th>\n",
       "      <th>MSE</th>\n",
       "      <th>RMSE</th>\n",
       "      <th>R2</th>\n",
       "    </tr>\n",
       "  </thead>\n",
       "  <tbody>\n",
       "    <tr>\n",
       "      <th>0</th>\n",
       "      <td>0</td>\n",
       "      <td>0.591535</td>\n",
       "      <td>0.616964</td>\n",
       "      <td>0.785471</td>\n",
       "      <td>0.534175</td>\n",
       "    </tr>\n",
       "  </tbody>\n",
       "</table>\n",
       "</div>"
      ],
      "text/plain": [
       "   Variable       MAE       MSE      RMSE        R2\n",
       "0         0  0.591535  0.616964  0.785471  0.534175"
      ]
     },
     "execution_count": 17,
     "metadata": {},
     "output_type": "execute_result"
    }
   ],
   "source": [
    "y_pred = base_model.predict(X_test_scaled)\n",
    "\n",
    "reg_metric = [ mean_absolute_error(y_test,y_pred),\n",
    "               mean_squared_error(y_test,y_pred),\n",
    "               rmse(y_test,y_pred),\n",
    "               r2_score(y_test,y_pred)]\n",
    "\n",
    "baseline_df = pd.DataFrame.from_dict(reg_metric).transpose().reset_index().rename(columns={'index':'Variable',\n",
    "                                                                               0 :'MAE',\n",
    "                                                                               1 :'MSE',\n",
    "                                                                               2 :'RMSE',\n",
    "                                                                               3 :'R2' })\n",
    "\n",
    "\n",
    "baseline_df"
   ]
  },
  {
   "cell_type": "markdown",
   "id": "right-bench",
   "metadata": {},
   "source": [
    "## No autocorrelation on residuals"
   ]
  },
  {
   "cell_type": "markdown",
   "id": "laden-voluntary",
   "metadata": {},
   "source": [
    "* $H_0$ : Autocorrelation is absent\n",
    "* $H_1$ : Autocorrelation is present\n",
    "    "
   ]
  },
  {
   "cell_type": "code",
   "execution_count": 18,
   "id": "checked-interest",
   "metadata": {},
   "outputs": [
    {
     "data": {
      "text/plain": [
       "0.5625496223762024"
      ]
     },
     "execution_count": 18,
     "metadata": {},
     "output_type": "execute_result"
    }
   ],
   "source": [
    "from statsmodels.stats import diagnostic as diag\n",
    "\n",
    "residuals = y_test.values-y_pred\n",
    "min(diag.acorr_ljungbox(residuals , lags = 40)[1])"
   ]
  },
  {
   "cell_type": "markdown",
   "id": "computational-connecticut",
   "metadata": {},
   "source": [
    "## Learning Curve"
   ]
  },
  {
   "cell_type": "markdown",
   "id": "practical-heavy",
   "metadata": {},
   "source": [
    "# Missing Completely at random \n",
    "\n",
    "For this analysis HouseAge, will be manipulated to replace 1%, 5%, 10%, 20%, 33% and 50% of the original data values with NaN at random.\n",
    "\n",
    "## HouseAge - Missing values"
   ]
  },
  {
   "cell_type": "code",
   "execution_count": 19,
   "id": "extreme-siemens",
   "metadata": {},
   "outputs": [],
   "source": [
    "missing_dist = [(1, 'HouseAge_1' ,'HouseAge_ind1'),\n",
    "                (5, 'HouseAge_5' ,'HouseAge_ind5'),\n",
    "                (10,'HouseAge_10','HouseAge_ind10'),\n",
    "                (20,'HouseAge_20','HouseAge_ind20'),\n",
    "                (33,'HouseAge_33','HouseAge_ind33'),\n",
    "                (50,'HouseAge_50','HouseAge_ind50')]\n",
    "df_mcr = df.copy()\n",
    "for i_tup in missing_dist:\n",
    "    df_mcr[i_tup[1]] = df_mcr['HouseAge']\n",
    "    df_mcr[i_tup[1]][df_mcr.HouseAge.sample(frac=(i_tup[0]/100)).index] = np.nan \n",
    "    df_mcr[i_tup[2]] = [ 1 if np.math.isnan(value) else 0 for value in df_mcr[i_tup[1]]]\n",
    "\n"
   ]
  },
  {
   "cell_type": "code",
   "execution_count": 20,
   "id": "turkish-raise",
   "metadata": {},
   "outputs": [
    {
     "name": "stdout",
     "output_type": "stream",
     "text": [
      "Missingness percentage on HouseAge\n",
      "MedInc             0.000000\n",
      "HouseAge           0.000000\n",
      "AveRooms           0.000000\n",
      "Population         0.000000\n",
      "AveOccup           0.000000\n",
      "Latitude           0.000000\n",
      "HouseAge_1         0.998062\n",
      "HouseAge_ind1      0.000000\n",
      "HouseAge_5         5.000000\n",
      "HouseAge_ind5      0.000000\n",
      "HouseAge_10       10.000000\n",
      "HouseAge_ind10     0.000000\n",
      "HouseAge_20       20.000000\n",
      "HouseAge_ind20     0.000000\n",
      "HouseAge_33       32.999031\n",
      "HouseAge_ind33     0.000000\n",
      "HouseAge_50       50.000000\n",
      "HouseAge_ind50     0.000000\n",
      "dtype: float64\n"
     ]
    }
   ],
   "source": [
    "print('Missingness percentage on HouseAge')\n",
    "print((df_mcr.isna().sum()/len(df_mcr))*100)"
   ]
  },
  {
   "cell_type": "markdown",
   "id": "official-despite",
   "metadata": {},
   "source": [
    "## HouseAge Imputation"
   ]
  },
  {
   "cell_type": "code",
   "execution_count": 21,
   "id": "typical-acceptance",
   "metadata": {},
   "outputs": [],
   "source": [
    "%%capture impute_cap\n",
    "df_mcr_imputed = df_mcr.copy()\n",
    "imputer = SimpleImputer(missing_values=np.nan, strategy='mean', copy=False)\n",
    "imputer.fit(df_mcr_imputed)\n",
    "mcr_imputed = imputer.transform(df_mcr_imputed)\n",
    "df_mcr_imputed = pd.DataFrame(mcr_imputed, columns = df_mcr.columns)"
   ]
  },
  {
   "cell_type": "markdown",
   "id": "discrete-freight",
   "metadata": {},
   "source": [
    "**Missingness after imputation**"
   ]
  },
  {
   "cell_type": "code",
   "execution_count": 22,
   "id": "beneficial-february",
   "metadata": {},
   "outputs": [
    {
     "name": "stdout",
     "output_type": "stream",
     "text": [
      "Missingness percentage on HouseAge\n",
      "MedInc            0.0\n",
      "HouseAge          0.0\n",
      "AveRooms          0.0\n",
      "Population        0.0\n",
      "AveOccup          0.0\n",
      "Latitude          0.0\n",
      "HouseAge_1        0.0\n",
      "HouseAge_ind1     0.0\n",
      "HouseAge_5        0.0\n",
      "HouseAge_ind5     0.0\n",
      "HouseAge_10       0.0\n",
      "HouseAge_ind10    0.0\n",
      "HouseAge_20       0.0\n",
      "HouseAge_ind20    0.0\n",
      "HouseAge_33       0.0\n",
      "HouseAge_ind33    0.0\n",
      "HouseAge_50       0.0\n",
      "HouseAge_ind50    0.0\n",
      "dtype: float64\n"
     ]
    }
   ],
   "source": [
    "print('Missingness percentage on HouseAge')\n",
    "print((df_mcr_imputed.isna().sum()/len(df_mcr_imputed))*100)"
   ]
  },
  {
   "cell_type": "markdown",
   "id": "ruled-uncertainty",
   "metadata": {},
   "source": [
    "## Plot imputed values"
   ]
  },
  {
   "cell_type": "code",
   "execution_count": 23,
   "id": "constant-crazy",
   "metadata": {},
   "outputs": [],
   "source": [
    "#plt.figure(figsize=(20,7))\n",
    "#import numpy as np\n",
    "#for i in range(len(list(df.columns))):\n",
    "#    plt.subplot(2, 4, i+1) \n",
    "#    sns.regplot(x=np.array(df.iloc[:,i]),y=np.array(target_df),\n",
    "#                line_kws={\"color\":\"r\",\"alpha\":0.8,\"lw\":2})\n",
    "#    plt.xlabel(list(df.columns)[i])\n",
    "#    plt.ylabel('House Price')\n",
    "#plt.show()"
   ]
  },
  {
   "cell_type": "markdown",
   "id": "isolated-bachelor",
   "metadata": {},
   "source": [
    "## Modeling with Imputed Values"
   ]
  },
  {
   "cell_type": "code",
   "execution_count": 24,
   "id": "arranged-memorabilia",
   "metadata": {},
   "outputs": [
    {
     "data": {
      "text/html": [
       "<div>\n",
       "<style scoped>\n",
       "    .dataframe tbody tr th:only-of-type {\n",
       "        vertical-align: middle;\n",
       "    }\n",
       "\n",
       "    .dataframe tbody tr th {\n",
       "        vertical-align: top;\n",
       "    }\n",
       "\n",
       "    .dataframe thead th {\n",
       "        text-align: right;\n",
       "    }\n",
       "</style>\n",
       "<table border=\"1\" class=\"dataframe\">\n",
       "  <thead>\n",
       "    <tr style=\"text-align: right;\">\n",
       "      <th></th>\n",
       "      <th>Variable</th>\n",
       "      <th>MAE</th>\n",
       "      <th>MSE</th>\n",
       "      <th>RMSE</th>\n",
       "      <th>R2</th>\n",
       "    </tr>\n",
       "  </thead>\n",
       "  <tbody>\n",
       "    <tr>\n",
       "      <th>0</th>\n",
       "      <td>HouseAge_1</td>\n",
       "      <td>0.591545</td>\n",
       "      <td>0.617076</td>\n",
       "      <td>0.785542</td>\n",
       "      <td>0.534091</td>\n",
       "    </tr>\n",
       "    <tr>\n",
       "      <th>1</th>\n",
       "      <td>HouseAge_5</td>\n",
       "      <td>0.591786</td>\n",
       "      <td>0.618126</td>\n",
       "      <td>0.786210</td>\n",
       "      <td>0.533298</td>\n",
       "    </tr>\n",
       "    <tr>\n",
       "      <th>2</th>\n",
       "      <td>HouseAge_10</td>\n",
       "      <td>0.593112</td>\n",
       "      <td>0.620247</td>\n",
       "      <td>0.787557</td>\n",
       "      <td>0.531697</td>\n",
       "    </tr>\n",
       "    <tr>\n",
       "      <th>3</th>\n",
       "      <td>HouseAge_20</td>\n",
       "      <td>0.597952</td>\n",
       "      <td>0.626562</td>\n",
       "      <td>0.791556</td>\n",
       "      <td>0.526929</td>\n",
       "    </tr>\n",
       "    <tr>\n",
       "      <th>4</th>\n",
       "      <td>HouseAge_33</td>\n",
       "      <td>0.598392</td>\n",
       "      <td>0.632337</td>\n",
       "      <td>0.795196</td>\n",
       "      <td>0.522569</td>\n",
       "    </tr>\n",
       "    <tr>\n",
       "      <th>5</th>\n",
       "      <td>HouseAge_50</td>\n",
       "      <td>0.601318</td>\n",
       "      <td>0.637748</td>\n",
       "      <td>0.798591</td>\n",
       "      <td>0.518483</td>\n",
       "    </tr>\n",
       "  </tbody>\n",
       "</table>\n",
       "</div>"
      ],
      "text/plain": [
       "      Variable       MAE       MSE      RMSE        R2\n",
       "0   HouseAge_1  0.591545  0.617076  0.785542  0.534091\n",
       "1   HouseAge_5  0.591786  0.618126  0.786210  0.533298\n",
       "2  HouseAge_10  0.593112  0.620247  0.787557  0.531697\n",
       "3  HouseAge_20  0.597952  0.626562  0.791556  0.526929\n",
       "4  HouseAge_33  0.598392  0.632337  0.795196  0.522569\n",
       "5  HouseAge_50  0.601318  0.637748  0.798591  0.518483"
      ]
     },
     "execution_count": 24,
     "metadata": {},
     "output_type": "execute_result"
    }
   ],
   "source": [
    "imputed_model = linear_model.Lasso(alpha=0.009)\n",
    "reg_metric = {}  \n",
    "\n",
    "for i_tuple in missing_dist:\n",
    "    features[1]= i_tuple[1]\n",
    "    X_train, X_test, y_train, y_test = train_test_split( df_mcr_imputed[features], target_df, \n",
    "                                                         test_size=0.3, random_state=100)\n",
    "    ss = StandardScaler().fit(X_train)\n",
    "    X_train_scaled = ss.transform(X_train)\n",
    "    X_test_scaled  = ss.transform(X_test)\n",
    "    imputed_model.fit(X_train_scaled, y_train)\n",
    "    \n",
    "    y_pred = imputed_model.predict(X_test_scaled)\n",
    "    # ['MAE','MSE','RMSE','R2']\n",
    "    reg_metric[i_tuple[1]] = [ mean_absolute_error(y_test,y_pred),\n",
    "                               mean_squared_error(y_test,y_pred),\n",
    "                               rmse(y_test,y_pred),\n",
    "                               r2_score(y_test,y_pred)]\n",
    "\n",
    "mcr_df = pd.DataFrame.from_dict(reg_metric).transpose().reset_index().rename(columns={'index':'Variable',\n",
    "                                                                               0 :'MAE',\n",
    "                                                                               1 :'MSE',\n",
    "                                                                               2 :'RMSE',\n",
    "                                                                               3 :'R2' })\n",
    "mcr_df"
   ]
  },
  {
   "cell_type": "markdown",
   "id": "interested-payday",
   "metadata": {},
   "source": [
    "# Missing at Random\n",
    "\n",
    "For this analysis same variable HouseAge, will be manipulated to replace 10%, 20% and 30%of the original data values with NaN at random.\n",
    "\n",
    "## HouseAge - Missing values"
   ]
  },
  {
   "cell_type": "code",
   "execution_count": 25,
   "id": "supported-remark",
   "metadata": {},
   "outputs": [],
   "source": [
    "#np.percentile(df.Population.values,50)\n",
    "missing_dist = [(20,'HouseAge_10','HouseAge_ind10'),\n",
    "                (40,'HouseAge_20','HouseAge_ind20'),\n",
    "                (60,'HouseAge_30','HouseAge_ind30')]\n",
    "\n",
    "df_mar = df.copy()\n",
    "for i_tup in missing_dist:\n",
    "    df_mar[i_tup[1]] = df['HouseAge']\n",
    "    df_mar[i_tup[1]][df_mar[df_mar['Population'] <=1166.0].sample(frac=(i_tup[0]/100)).index] = np.nan \n",
    "    df_mar[i_tup[2]] = [ 1 if np.math.isnan(value) else 0 for value in df_mar[i_tup[1]]]\n",
    "\n",
    "\n",
    "    "
   ]
  },
  {
   "cell_type": "code",
   "execution_count": 26,
   "id": "invisible-match",
   "metadata": {},
   "outputs": [
    {
     "name": "stdout",
     "output_type": "stream",
     "text": [
      "Missingness percentage on HouseAge\n",
      "MedInc             0.000000\n",
      "HouseAge           0.000000\n",
      "AveRooms           0.000000\n",
      "Population         0.000000\n",
      "AveOccup           0.000000\n",
      "Latitude           0.000000\n",
      "HouseAge_10       10.004845\n",
      "HouseAge_ind10     0.000000\n",
      "HouseAge_20       20.009690\n",
      "HouseAge_ind20     0.000000\n",
      "HouseAge_30       30.014535\n",
      "HouseAge_ind30     0.000000\n",
      "dtype: float64\n",
      "60\n"
     ]
    }
   ],
   "source": [
    "print('Missingness percentage on HouseAge')\n",
    "print((df_mar.isna().sum()/len(df_mar))*100)\n",
    "print(i_tup[0])"
   ]
  },
  {
   "cell_type": "markdown",
   "id": "illegal-playback",
   "metadata": {},
   "source": [
    "## HouseAge Imputation"
   ]
  },
  {
   "cell_type": "code",
   "execution_count": 27,
   "id": "excessive-quebec",
   "metadata": {},
   "outputs": [],
   "source": [
    "%%capture impute_cap\n",
    "df_mar_imputed = df_mar.copy()\n",
    "imputer = SimpleImputer(missing_values=np.nan, strategy='mean', copy=False)\n",
    "imputer.fit(df_mar_imputed)\n",
    "mar_imputed = imputer.transform(df_mar_imputed)\n",
    "df_mar_imputed = pd.DataFrame(mar_imputed, columns = df_mar.columns)"
   ]
  },
  {
   "cell_type": "markdown",
   "id": "tutorial-comparison",
   "metadata": {},
   "source": [
    "**Missingness after imputation**"
   ]
  },
  {
   "cell_type": "code",
   "execution_count": 28,
   "id": "supported-diary",
   "metadata": {},
   "outputs": [
    {
     "name": "stdout",
     "output_type": "stream",
     "text": [
      "Missingness percentage on HouseAge\n",
      "MedInc             0.000000\n",
      "HouseAge           0.000000\n",
      "AveRooms           0.000000\n",
      "Population         0.000000\n",
      "AveOccup           0.000000\n",
      "Latitude           0.000000\n",
      "HouseAge_10       10.004845\n",
      "HouseAge_ind10     0.000000\n",
      "HouseAge_20       20.009690\n",
      "HouseAge_ind20     0.000000\n",
      "HouseAge_30       30.014535\n",
      "HouseAge_ind30     0.000000\n",
      "dtype: float64\n",
      "60\n"
     ]
    }
   ],
   "source": [
    "print('Missingness percentage on HouseAge')\n",
    "print((df_mar.isna().sum()/len(df_mar))*100)\n",
    "print(i_tup[0])"
   ]
  },
  {
   "cell_type": "markdown",
   "id": "broke-ghost",
   "metadata": {},
   "source": [
    "## Plot imputed values"
   ]
  },
  {
   "cell_type": "code",
   "execution_count": null,
   "id": "harmful-blend",
   "metadata": {},
   "outputs": [],
   "source": []
  },
  {
   "cell_type": "markdown",
   "id": "celtic-discretion",
   "metadata": {},
   "source": [
    "## Modeling with Imputed Values"
   ]
  },
  {
   "cell_type": "code",
   "execution_count": 29,
   "id": "postal-shoulder",
   "metadata": {},
   "outputs": [
    {
     "data": {
      "text/html": [
       "<div>\n",
       "<style scoped>\n",
       "    .dataframe tbody tr th:only-of-type {\n",
       "        vertical-align: middle;\n",
       "    }\n",
       "\n",
       "    .dataframe tbody tr th {\n",
       "        vertical-align: top;\n",
       "    }\n",
       "\n",
       "    .dataframe thead th {\n",
       "        text-align: right;\n",
       "    }\n",
       "</style>\n",
       "<table border=\"1\" class=\"dataframe\">\n",
       "  <thead>\n",
       "    <tr style=\"text-align: right;\">\n",
       "      <th></th>\n",
       "      <th>Variable</th>\n",
       "      <th>MAE</th>\n",
       "      <th>MSE</th>\n",
       "      <th>RMSE</th>\n",
       "      <th>R2</th>\n",
       "    </tr>\n",
       "  </thead>\n",
       "  <tbody>\n",
       "    <tr>\n",
       "      <th>0</th>\n",
       "      <td>HouseAge_10</td>\n",
       "      <td>0.593854</td>\n",
       "      <td>0.622303</td>\n",
       "      <td>0.788862</td>\n",
       "      <td>0.530144</td>\n",
       "    </tr>\n",
       "    <tr>\n",
       "      <th>1</th>\n",
       "      <td>HouseAge_20</td>\n",
       "      <td>0.596139</td>\n",
       "      <td>0.625579</td>\n",
       "      <td>0.790936</td>\n",
       "      <td>0.527671</td>\n",
       "    </tr>\n",
       "    <tr>\n",
       "      <th>2</th>\n",
       "      <td>HouseAge_30</td>\n",
       "      <td>0.596965</td>\n",
       "      <td>0.629927</td>\n",
       "      <td>0.793679</td>\n",
       "      <td>0.524388</td>\n",
       "    </tr>\n",
       "  </tbody>\n",
       "</table>\n",
       "</div>"
      ],
      "text/plain": [
       "      Variable       MAE       MSE      RMSE        R2\n",
       "0  HouseAge_10  0.593854  0.622303  0.788862  0.530144\n",
       "1  HouseAge_20  0.596139  0.625579  0.790936  0.527671\n",
       "2  HouseAge_30  0.596965  0.629927  0.793679  0.524388"
      ]
     },
     "execution_count": 29,
     "metadata": {},
     "output_type": "execute_result"
    }
   ],
   "source": [
    "imputed_model = linear_model.Lasso(alpha=0.009)\n",
    "reg_metric = {}  \n",
    "\n",
    "for i_tuple in missing_dist:\n",
    "    features[1]= i_tuple[1]\n",
    "    X_train, X_test, y_train, y_test = train_test_split( df_mar_imputed[features], target_df, \n",
    "                                                         test_size=0.3, random_state=100)\n",
    "    ss = StandardScaler().fit(X_train)\n",
    "    X_train_scaled = ss.transform(X_train)\n",
    "    X_test_scaled  = ss.transform(X_test)\n",
    "    imputed_model.fit(X_train_scaled, y_train)\n",
    "    \n",
    "    y_pred = imputed_model.predict(X_test_scaled)\n",
    "    # ['MAE','MSE','RMSE','R2']\n",
    "    reg_metric[i_tuple[1]] = [ mean_absolute_error(y_test,y_pred),\n",
    "                               mean_squared_error(y_test,y_pred),\n",
    "                               rmse(y_test,y_pred),\n",
    "                               r2_score(y_test,y_pred)]\n",
    "\n",
    "mar_df = pd.DataFrame.from_dict(reg_metric).transpose().reset_index().rename(columns={'index':'Variable',\n",
    "                                                                               0 :'MAE',\n",
    "                                                                               1 :'MSE',\n",
    "                                                                               2 :'RMSE',\n",
    "                                                                               3 :'R2' })\n",
    "\n",
    "mar_df"
   ]
  },
  {
   "cell_type": "markdown",
   "id": "assured-religious",
   "metadata": {},
   "source": [
    "# Missing not at random\n",
    "\n",
    "For this analysis same variable HouseAge, will be manipulated to replace  25% of the original data values with NaN at random.\n",
    "\n",
    "## HouseAge - Missing values\n"
   ]
  },
  {
   "cell_type": "code",
   "execution_count": 30,
   "id": "announced-coordinate",
   "metadata": {},
   "outputs": [],
   "source": [
    "#np.percentile(df.Population.values,50)\n",
    "missing_dist = [(71,'HouseAge_25','HouseAge_ind25')]\n",
    "\n",
    "df_mnar = df.copy()\n",
    "for i_tup in missing_dist:\n",
    "    df_mnar[i_tup[1]] = df['HouseAge']\n",
    "    df_mnar[i_tup[1]][df_mnar[df_mar['MedInc'] <3].sample(frac=(i_tup[0]/100)).index] = np.nan \n",
    "    df_mnar[i_tup[2]] = [ 1 if np.math.isnan(value) else 0 for value in df_mnar[i_tup[1]]]\n",
    "\n"
   ]
  },
  {
   "cell_type": "code",
   "execution_count": 31,
   "id": "orange-accused",
   "metadata": {},
   "outputs": [
    {
     "name": "stdout",
     "output_type": "stream",
     "text": [
      "Missingness percentage on HouseAge\n",
      "MedInc             0.000000\n",
      "HouseAge           0.000000\n",
      "AveRooms           0.000000\n",
      "Population         0.000000\n",
      "AveOccup           0.000000\n",
      "Latitude           0.000000\n",
      "HouseAge_25       25.334302\n",
      "HouseAge_ind25     0.000000\n",
      "dtype: float64\n",
      "71\n"
     ]
    }
   ],
   "source": [
    "print('Missingness percentage on HouseAge')\n",
    "print((df_mnar.isna().sum()/len(df_mnar))*100)\n",
    "print(i_tup[0])"
   ]
  },
  {
   "cell_type": "markdown",
   "id": "reduced-builder",
   "metadata": {},
   "source": [
    "## HouseAge Imputation"
   ]
  },
  {
   "cell_type": "code",
   "execution_count": 32,
   "id": "supreme-tumor",
   "metadata": {},
   "outputs": [],
   "source": [
    "%%capture impute_cap\n",
    "df_mnar_imputed = df_mnar.copy()\n",
    "imputer = SimpleImputer(missing_values=np.nan, strategy='mean', copy=False)\n",
    "imputer.fit(df_mnar_imputed)\n",
    "mnar_imputed = imputer.transform(df_mnar_imputed)\n",
    "df_mnar_imputed = pd.DataFrame(mnar_imputed, columns = df_mnar.columns)"
   ]
  },
  {
   "cell_type": "markdown",
   "id": "productive-abortion",
   "metadata": {},
   "source": [
    "**Missingness after imputation**"
   ]
  },
  {
   "cell_type": "code",
   "execution_count": 33,
   "id": "pointed-microwave",
   "metadata": {},
   "outputs": [
    {
     "name": "stdout",
     "output_type": "stream",
     "text": [
      "Missingness percentage on HouseAge\n",
      "MedInc             0.000000\n",
      "HouseAge           0.000000\n",
      "AveRooms           0.000000\n",
      "Population         0.000000\n",
      "AveOccup           0.000000\n",
      "Latitude           0.000000\n",
      "HouseAge_25       25.334302\n",
      "HouseAge_ind25     0.000000\n",
      "dtype: float64\n",
      "71\n"
     ]
    }
   ],
   "source": [
    "print('Missingness percentage on HouseAge')\n",
    "print((df_mnar.isna().sum()/len(df_mnar))*100)\n",
    "print(i_tup[0])"
   ]
  },
  {
   "cell_type": "markdown",
   "id": "detailed-blink",
   "metadata": {},
   "source": [
    "## Plot imputed values"
   ]
  },
  {
   "cell_type": "code",
   "execution_count": null,
   "id": "cellular-albert",
   "metadata": {},
   "outputs": [],
   "source": []
  },
  {
   "cell_type": "markdown",
   "id": "homeless-prescription",
   "metadata": {},
   "source": [
    "## Modeling with Imputed Values"
   ]
  },
  {
   "cell_type": "code",
   "execution_count": 34,
   "id": "confirmed-cookbook",
   "metadata": {},
   "outputs": [
    {
     "data": {
      "text/html": [
       "<div>\n",
       "<style scoped>\n",
       "    .dataframe tbody tr th:only-of-type {\n",
       "        vertical-align: middle;\n",
       "    }\n",
       "\n",
       "    .dataframe tbody tr th {\n",
       "        vertical-align: top;\n",
       "    }\n",
       "\n",
       "    .dataframe thead th {\n",
       "        text-align: right;\n",
       "    }\n",
       "</style>\n",
       "<table border=\"1\" class=\"dataframe\">\n",
       "  <thead>\n",
       "    <tr style=\"text-align: right;\">\n",
       "      <th></th>\n",
       "      <th>Variable</th>\n",
       "      <th>MAE</th>\n",
       "      <th>MSE</th>\n",
       "      <th>RMSE</th>\n",
       "      <th>R2</th>\n",
       "    </tr>\n",
       "  </thead>\n",
       "  <tbody>\n",
       "    <tr>\n",
       "      <th>0</th>\n",
       "      <td>HouseAge_25</td>\n",
       "      <td>0.589163</td>\n",
       "      <td>0.615524</td>\n",
       "      <td>0.784554</td>\n",
       "      <td>0.535262</td>\n",
       "    </tr>\n",
       "  </tbody>\n",
       "</table>\n",
       "</div>"
      ],
      "text/plain": [
       "      Variable       MAE       MSE      RMSE        R2\n",
       "0  HouseAge_25  0.589163  0.615524  0.784554  0.535262"
      ]
     },
     "execution_count": 34,
     "metadata": {},
     "output_type": "execute_result"
    }
   ],
   "source": [
    "imputed_model = linear_model.Lasso(alpha=0.009)\n",
    "reg_metric = {}  \n",
    "\n",
    "for i_tuple in missing_dist:\n",
    "    features[1]= i_tuple[1]\n",
    "    X_train, X_test, y_train, y_test = train_test_split( df_mnar_imputed[features], target_df, \n",
    "                                                         test_size=0.3, random_state=100)\n",
    "    ss = StandardScaler().fit(X_train)\n",
    "    X_train_scaled = ss.transform(X_train)\n",
    "    X_test_scaled  = ss.transform(X_test)\n",
    "    imputed_model.fit(X_train_scaled, y_train)\n",
    "    \n",
    "    y_pred = imputed_model.predict(X_test_scaled)\n",
    "    # ['MAE','MSE','RMSE','R2']\n",
    "    reg_metric[i_tuple[1]] = [ mean_absolute_error(y_test,y_pred),\n",
    "                               mean_squared_error(y_test,y_pred),\n",
    "                               rmse(y_test,y_pred),\n",
    "                               r2_score(y_test,y_pred)]\n",
    "\n",
    "mnar_df = pd.DataFrame.from_dict(reg_metric).transpose().reset_index().rename(columns={'index':'Variable',\n",
    "                                                                               0 :'MAE',\n",
    "                                                                               1 :'MSE',\n",
    "                                                                               2 :'RMSE',\n",
    "                                                                               3 :'R2' })\n",
    "\n",
    "\n",
    "mnar_df"
   ]
  },
  {
   "cell_type": "markdown",
   "id": "international-examination",
   "metadata": {},
   "source": [
    "# Result Summary"
   ]
  },
  {
   "cell_type": "code",
   "execution_count": 35,
   "id": "communist-albania",
   "metadata": {},
   "outputs": [
    {
     "data": {
      "text/html": [
       "<div>\n",
       "<style scoped>\n",
       "    .dataframe tbody tr th:only-of-type {\n",
       "        vertical-align: middle;\n",
       "    }\n",
       "\n",
       "    .dataframe tbody tr th {\n",
       "        vertical-align: top;\n",
       "    }\n",
       "\n",
       "    .dataframe thead th {\n",
       "        text-align: right;\n",
       "    }\n",
       "</style>\n",
       "<table border=\"1\" class=\"dataframe\">\n",
       "  <thead>\n",
       "    <tr style=\"text-align: right;\">\n",
       "      <th></th>\n",
       "      <th>Variable</th>\n",
       "      <th>MAE</th>\n",
       "      <th>MSE</th>\n",
       "      <th>RMSE</th>\n",
       "      <th>R2</th>\n",
       "    </tr>\n",
       "  </thead>\n",
       "  <tbody>\n",
       "    <tr>\n",
       "      <th>0</th>\n",
       "      <td>0</td>\n",
       "      <td>0.591535</td>\n",
       "      <td>0.616964</td>\n",
       "      <td>0.785471</td>\n",
       "      <td>0.534175</td>\n",
       "    </tr>\n",
       "  </tbody>\n",
       "</table>\n",
       "</div>"
      ],
      "text/plain": [
       "   Variable       MAE       MSE      RMSE        R2\n",
       "0         0  0.591535  0.616964  0.785471  0.534175"
      ]
     },
     "execution_count": 35,
     "metadata": {},
     "output_type": "execute_result"
    }
   ],
   "source": [
    "baseline_df"
   ]
  },
  {
   "cell_type": "code",
   "execution_count": 36,
   "id": "hawaiian-anime",
   "metadata": {},
   "outputs": [
    {
     "data": {
      "text/html": [
       "<div>\n",
       "<style scoped>\n",
       "    .dataframe tbody tr th:only-of-type {\n",
       "        vertical-align: middle;\n",
       "    }\n",
       "\n",
       "    .dataframe tbody tr th {\n",
       "        vertical-align: top;\n",
       "    }\n",
       "\n",
       "    .dataframe thead th {\n",
       "        text-align: right;\n",
       "    }\n",
       "</style>\n",
       "<table border=\"1\" class=\"dataframe\">\n",
       "  <thead>\n",
       "    <tr style=\"text-align: right;\">\n",
       "      <th></th>\n",
       "      <th>Variable</th>\n",
       "      <th>MAE</th>\n",
       "      <th>MSE</th>\n",
       "      <th>RMSE</th>\n",
       "      <th>R2</th>\n",
       "    </tr>\n",
       "  </thead>\n",
       "  <tbody>\n",
       "    <tr>\n",
       "      <th>0</th>\n",
       "      <td>HouseAge_1</td>\n",
       "      <td>0.591545</td>\n",
       "      <td>0.617076</td>\n",
       "      <td>0.785542</td>\n",
       "      <td>0.534091</td>\n",
       "    </tr>\n",
       "    <tr>\n",
       "      <th>1</th>\n",
       "      <td>HouseAge_5</td>\n",
       "      <td>0.591786</td>\n",
       "      <td>0.618126</td>\n",
       "      <td>0.786210</td>\n",
       "      <td>0.533298</td>\n",
       "    </tr>\n",
       "    <tr>\n",
       "      <th>2</th>\n",
       "      <td>HouseAge_10</td>\n",
       "      <td>0.593112</td>\n",
       "      <td>0.620247</td>\n",
       "      <td>0.787557</td>\n",
       "      <td>0.531697</td>\n",
       "    </tr>\n",
       "    <tr>\n",
       "      <th>3</th>\n",
       "      <td>HouseAge_20</td>\n",
       "      <td>0.597952</td>\n",
       "      <td>0.626562</td>\n",
       "      <td>0.791556</td>\n",
       "      <td>0.526929</td>\n",
       "    </tr>\n",
       "    <tr>\n",
       "      <th>4</th>\n",
       "      <td>HouseAge_33</td>\n",
       "      <td>0.598392</td>\n",
       "      <td>0.632337</td>\n",
       "      <td>0.795196</td>\n",
       "      <td>0.522569</td>\n",
       "    </tr>\n",
       "    <tr>\n",
       "      <th>5</th>\n",
       "      <td>HouseAge_50</td>\n",
       "      <td>0.601318</td>\n",
       "      <td>0.637748</td>\n",
       "      <td>0.798591</td>\n",
       "      <td>0.518483</td>\n",
       "    </tr>\n",
       "  </tbody>\n",
       "</table>\n",
       "</div>"
      ],
      "text/plain": [
       "      Variable       MAE       MSE      RMSE        R2\n",
       "0   HouseAge_1  0.591545  0.617076  0.785542  0.534091\n",
       "1   HouseAge_5  0.591786  0.618126  0.786210  0.533298\n",
       "2  HouseAge_10  0.593112  0.620247  0.787557  0.531697\n",
       "3  HouseAge_20  0.597952  0.626562  0.791556  0.526929\n",
       "4  HouseAge_33  0.598392  0.632337  0.795196  0.522569\n",
       "5  HouseAge_50  0.601318  0.637748  0.798591  0.518483"
      ]
     },
     "execution_count": 36,
     "metadata": {},
     "output_type": "execute_result"
    }
   ],
   "source": [
    "mcr_df"
   ]
  },
  {
   "cell_type": "code",
   "execution_count": 37,
   "id": "sticky-brain",
   "metadata": {},
   "outputs": [
    {
     "data": {
      "text/html": [
       "<div>\n",
       "<style scoped>\n",
       "    .dataframe tbody tr th:only-of-type {\n",
       "        vertical-align: middle;\n",
       "    }\n",
       "\n",
       "    .dataframe tbody tr th {\n",
       "        vertical-align: top;\n",
       "    }\n",
       "\n",
       "    .dataframe thead th {\n",
       "        text-align: right;\n",
       "    }\n",
       "</style>\n",
       "<table border=\"1\" class=\"dataframe\">\n",
       "  <thead>\n",
       "    <tr style=\"text-align: right;\">\n",
       "      <th></th>\n",
       "      <th>Variable</th>\n",
       "      <th>MAE</th>\n",
       "      <th>MSE</th>\n",
       "      <th>RMSE</th>\n",
       "      <th>R2</th>\n",
       "    </tr>\n",
       "  </thead>\n",
       "  <tbody>\n",
       "    <tr>\n",
       "      <th>0</th>\n",
       "      <td>HouseAge_10</td>\n",
       "      <td>0.593854</td>\n",
       "      <td>0.622303</td>\n",
       "      <td>0.788862</td>\n",
       "      <td>0.530144</td>\n",
       "    </tr>\n",
       "    <tr>\n",
       "      <th>1</th>\n",
       "      <td>HouseAge_20</td>\n",
       "      <td>0.596139</td>\n",
       "      <td>0.625579</td>\n",
       "      <td>0.790936</td>\n",
       "      <td>0.527671</td>\n",
       "    </tr>\n",
       "    <tr>\n",
       "      <th>2</th>\n",
       "      <td>HouseAge_30</td>\n",
       "      <td>0.596965</td>\n",
       "      <td>0.629927</td>\n",
       "      <td>0.793679</td>\n",
       "      <td>0.524388</td>\n",
       "    </tr>\n",
       "  </tbody>\n",
       "</table>\n",
       "</div>"
      ],
      "text/plain": [
       "      Variable       MAE       MSE      RMSE        R2\n",
       "0  HouseAge_10  0.593854  0.622303  0.788862  0.530144\n",
       "1  HouseAge_20  0.596139  0.625579  0.790936  0.527671\n",
       "2  HouseAge_30  0.596965  0.629927  0.793679  0.524388"
      ]
     },
     "execution_count": 37,
     "metadata": {},
     "output_type": "execute_result"
    }
   ],
   "source": [
    "mar_df"
   ]
  },
  {
   "cell_type": "code",
   "execution_count": 38,
   "id": "ordinary-domestic",
   "metadata": {},
   "outputs": [
    {
     "data": {
      "text/html": [
       "<div>\n",
       "<style scoped>\n",
       "    .dataframe tbody tr th:only-of-type {\n",
       "        vertical-align: middle;\n",
       "    }\n",
       "\n",
       "    .dataframe tbody tr th {\n",
       "        vertical-align: top;\n",
       "    }\n",
       "\n",
       "    .dataframe thead th {\n",
       "        text-align: right;\n",
       "    }\n",
       "</style>\n",
       "<table border=\"1\" class=\"dataframe\">\n",
       "  <thead>\n",
       "    <tr style=\"text-align: right;\">\n",
       "      <th></th>\n",
       "      <th>Variable</th>\n",
       "      <th>MAE</th>\n",
       "      <th>MSE</th>\n",
       "      <th>RMSE</th>\n",
       "      <th>R2</th>\n",
       "    </tr>\n",
       "  </thead>\n",
       "  <tbody>\n",
       "    <tr>\n",
       "      <th>0</th>\n",
       "      <td>HouseAge_25</td>\n",
       "      <td>0.589163</td>\n",
       "      <td>0.615524</td>\n",
       "      <td>0.784554</td>\n",
       "      <td>0.535262</td>\n",
       "    </tr>\n",
       "  </tbody>\n",
       "</table>\n",
       "</div>"
      ],
      "text/plain": [
       "      Variable       MAE       MSE      RMSE        R2\n",
       "0  HouseAge_25  0.589163  0.615524  0.784554  0.535262"
      ]
     },
     "execution_count": 38,
     "metadata": {},
     "output_type": "execute_result"
    }
   ],
   "source": [
    "mnar_df"
   ]
  },
  {
   "cell_type": "markdown",
   "id": "wireless-jacksonville",
   "metadata": {},
   "source": [
    "# Conclusion "
   ]
  },
  {
   "cell_type": "code",
   "execution_count": null,
   "id": "conscious-profit",
   "metadata": {},
   "outputs": [],
   "source": []
  }
 ],
 "metadata": {
  "kernelspec": {
   "display_name": "Python 3",
   "language": "python",
   "name": "python3"
  },
  "language_info": {
   "codemirror_mode": {
    "name": "ipython",
    "version": 3
   },
   "file_extension": ".py",
   "mimetype": "text/x-python",
   "name": "python",
   "nbconvert_exporter": "python",
   "pygments_lexer": "ipython3",
   "version": "3.6.12"
  },
  "toc": {
   "base_numbering": 1,
   "nav_menu": {},
   "number_sections": false,
   "sideBar": true,
   "skip_h1_title": false,
   "title_cell": "Table of Contents",
   "title_sidebar": "Contents",
   "toc_cell": true,
   "toc_position": {},
   "toc_section_display": true,
   "toc_window_display": false
  }
 },
 "nbformat": 4,
 "nbformat_minor": 5
}
